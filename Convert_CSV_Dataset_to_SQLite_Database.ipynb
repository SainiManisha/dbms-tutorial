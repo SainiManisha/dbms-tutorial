{
  "nbformat": 4,
  "nbformat_minor": 0,
  "metadata": {
    "colab": {
      "name": "Convert CSV Dataset to SQLite Database",
      "provenance": [],
      "collapsed_sections": [],
      "authorship_tag": "ABX9TyNwd+KG4Ys3SE6QeyS231ht",
      "include_colab_link": true
    },
    "kernelspec": {
      "name": "python3",
      "display_name": "Python 3"
    }
  },
  "cells": [
    {
      "cell_type": "markdown",
      "metadata": {
        "id": "view-in-github",
        "colab_type": "text"
      },
      "source": [
        "<a href=\"https://colab.research.google.com/github/SainiManisha/dbms-tutorial/blob/master/Convert_CSV_Dataset_to_SQLite_Database.ipynb\" target=\"_parent\"><img src=\"https://colab.research.google.com/assets/colab-badge.svg\" alt=\"Open In Colab\"/></a>"
      ]
    },
    {
      "cell_type": "code",
      "metadata": {
        "id": "TAcfxX9A0LWw",
        "colab": {
          "base_uri": "https://localhost:8080/"
        },
        "outputId": "adca41c8-dac6-4d18-97df-64606508785d"
      },
      "source": [
        "!wget https://storage.googleapis.com/manisha1234/students_data_btech_2017.csv"
      ],
      "execution_count": 2,
      "outputs": [
        {
          "output_type": "stream",
          "text": [
            "--2020-11-26 19:26:52--  https://storage.googleapis.com/manisha1234/students_data_btech_2017.csv\n",
            "Resolving storage.googleapis.com (storage.googleapis.com)... 108.177.12.128, 172.217.193.128, 172.217.204.128, ...\n",
            "Connecting to storage.googleapis.com (storage.googleapis.com)|108.177.12.128|:443... connected.\n",
            "HTTP request sent, awaiting response... 200 OK\n",
            "Length: 1479 (1.4K) [application/octet-stream]\n",
            "Saving to: ‘students_data_btech_2017.csv’\n",
            "\n",
            "students_data_btech 100%[===================>]   1.44K  --.-KB/s    in 0s      \n",
            "\n",
            "2020-11-26 19:26:55 (26.8 MB/s) - ‘students_data_btech_2017.csv’ saved [1479/1479]\n",
            "\n"
          ],
          "name": "stdout"
        }
      ]
    },
    {
      "cell_type": "code",
      "metadata": {
        "id": "SZ1UU-NK9TST"
      },
      "source": [
        "import sqlite3\n",
        "import pandas as pd"
      ],
      "execution_count": 3,
      "outputs": []
    },
    {
      "cell_type": "code",
      "metadata": {
        "colab": {
          "base_uri": "https://localhost:8080/",
          "height": 359
        },
        "id": "pnpPloFc-MR2",
        "outputId": "b0d45ae9-060f-4d75-ffcd-056ffb721ffb"
      },
      "source": [
        "df = pd.read_csv(\"students_data_btech_2017.csv\")\n",
        "df.head(10)"
      ],
      "execution_count": 4,
      "outputs": [
        {
          "output_type": "execute_result",
          "data": {
            "text/html": [
              "<div>\n",
              "<style scoped>\n",
              "    .dataframe tbody tr th:only-of-type {\n",
              "        vertical-align: middle;\n",
              "    }\n",
              "\n",
              "    .dataframe tbody tr th {\n",
              "        vertical-align: top;\n",
              "    }\n",
              "\n",
              "    .dataframe thead th {\n",
              "        text-align: right;\n",
              "    }\n",
              "</style>\n",
              "<table border=\"1\" class=\"dataframe\">\n",
              "  <thead>\n",
              "    <tr style=\"text-align: right;\">\n",
              "      <th></th>\n",
              "      <th>admission_no</th>\n",
              "      <th>name</th>\n",
              "      <th>group</th>\n",
              "      <th>mse1</th>\n",
              "      <th>mse2</th>\n",
              "      <th>assignment</th>\n",
              "      <th>class_performance</th>\n",
              "    </tr>\n",
              "  </thead>\n",
              "  <tbody>\n",
              "    <tr>\n",
              "      <th>0</th>\n",
              "      <td>17180599</td>\n",
              "      <td>Aditya Sharma</td>\n",
              "      <td>T1</td>\n",
              "      <td>10</td>\n",
              "      <td>10</td>\n",
              "      <td>12</td>\n",
              "      <td>6</td>\n",
              "    </tr>\n",
              "    <tr>\n",
              "      <th>1</th>\n",
              "      <td>17180814</td>\n",
              "      <td>Akanksha Naidu</td>\n",
              "      <td>T2</td>\n",
              "      <td>14</td>\n",
              "      <td>20</td>\n",
              "      <td>12</td>\n",
              "      <td>6</td>\n",
              "    </tr>\n",
              "    <tr>\n",
              "      <th>2</th>\n",
              "      <td>17180271</td>\n",
              "      <td>Akash Yadav</td>\n",
              "      <td>T1</td>\n",
              "      <td>3</td>\n",
              "      <td>2</td>\n",
              "      <td>8</td>\n",
              "      <td>6</td>\n",
              "    </tr>\n",
              "    <tr>\n",
              "      <th>3</th>\n",
              "      <td>17180565</td>\n",
              "      <td>Anand Dagar</td>\n",
              "      <td>T1</td>\n",
              "      <td>8</td>\n",
              "      <td>6</td>\n",
              "      <td>11</td>\n",
              "      <td>6</td>\n",
              "    </tr>\n",
              "    <tr>\n",
              "      <th>4</th>\n",
              "      <td>17180298</td>\n",
              "      <td>Ankit Rastogi</td>\n",
              "      <td>T1</td>\n",
              "      <td>6</td>\n",
              "      <td>4</td>\n",
              "      <td>9</td>\n",
              "      <td>6</td>\n",
              "    </tr>\n",
              "    <tr>\n",
              "      <th>5</th>\n",
              "      <td>17180023</td>\n",
              "      <td>Anshudeep Yadav</td>\n",
              "      <td>T1</td>\n",
              "      <td>4</td>\n",
              "      <td>4</td>\n",
              "      <td>14</td>\n",
              "      <td>6</td>\n",
              "    </tr>\n",
              "    <tr>\n",
              "      <th>6</th>\n",
              "      <td>17180138</td>\n",
              "      <td>Aryan Agarwal</td>\n",
              "      <td>T1</td>\n",
              "      <td>5</td>\n",
              "      <td>13</td>\n",
              "      <td>16</td>\n",
              "      <td>6</td>\n",
              "    </tr>\n",
              "    <tr>\n",
              "      <th>7</th>\n",
              "      <td>17180264</td>\n",
              "      <td>Aryan Lamba</td>\n",
              "      <td>T1</td>\n",
              "      <td>7</td>\n",
              "      <td>9</td>\n",
              "      <td>8</td>\n",
              "      <td>6</td>\n",
              "    </tr>\n",
              "    <tr>\n",
              "      <th>8</th>\n",
              "      <td>17180239</td>\n",
              "      <td>Bhupender Yadav</td>\n",
              "      <td>T2</td>\n",
              "      <td>8</td>\n",
              "      <td>7</td>\n",
              "      <td>12</td>\n",
              "      <td>6</td>\n",
              "    </tr>\n",
              "    <tr>\n",
              "      <th>9</th>\n",
              "      <td>17180418</td>\n",
              "      <td>Dev Kartik agarwal</td>\n",
              "      <td>T2</td>\n",
              "      <td>11</td>\n",
              "      <td>18</td>\n",
              "      <td>9</td>\n",
              "      <td>7</td>\n",
              "    </tr>\n",
              "  </tbody>\n",
              "</table>\n",
              "</div>"
            ],
            "text/plain": [
              "   admission_no                name group  ...  mse2  assignment  class_performance\n",
              "0      17180599       Aditya Sharma    T1  ...    10          12                  6\n",
              "1      17180814      Akanksha Naidu    T2  ...    20          12                  6\n",
              "2      17180271         Akash Yadav    T1  ...     2           8                  6\n",
              "3      17180565         Anand Dagar    T1  ...     6          11                  6\n",
              "4      17180298       Ankit Rastogi    T1  ...     4           9                  6\n",
              "5      17180023     Anshudeep Yadav    T1  ...     4          14                  6\n",
              "6      17180138       Aryan Agarwal    T1  ...    13          16                  6\n",
              "7      17180264         Aryan Lamba    T1  ...     9           8                  6\n",
              "8      17180239     Bhupender Yadav    T2  ...     7          12                  6\n",
              "9      17180418  Dev Kartik agarwal    T2  ...    18           9                  7\n",
              "\n",
              "[10 rows x 7 columns]"
            ]
          },
          "metadata": {
            "tags": []
          },
          "execution_count": 4
        }
      ]
    },
    {
      "cell_type": "code",
      "metadata": {
        "colab": {
          "base_uri": "https://localhost:8080/"
        },
        "id": "GLx43PRa_8Vn",
        "outputId": "2f1e3560-c39a-4c6b-adb8-770cade74054"
      },
      "source": [
        "df.info()"
      ],
      "execution_count": 5,
      "outputs": [
        {
          "output_type": "stream",
          "text": [
            "<class 'pandas.core.frame.DataFrame'>\n",
            "RangeIndex: 39 entries, 0 to 38\n",
            "Data columns (total 7 columns):\n",
            " #   Column             Non-Null Count  Dtype \n",
            "---  ------             --------------  ----- \n",
            " 0   admission_no       39 non-null     int64 \n",
            " 1   name               39 non-null     object\n",
            " 2   group              39 non-null     object\n",
            " 3   mse1               39 non-null     int64 \n",
            " 4   mse2               39 non-null     int64 \n",
            " 5   assignment         39 non-null     int64 \n",
            " 6   class_performance  39 non-null     int64 \n",
            "dtypes: int64(5), object(2)\n",
            "memory usage: 2.3+ KB\n"
          ],
          "name": "stdout"
        }
      ]
    },
    {
      "cell_type": "code",
      "metadata": {
        "id": "Re0nWbSX-pnk"
      },
      "source": [
        "db = sqlite3.connect('students_data.db')"
      ],
      "execution_count": 6,
      "outputs": []
    },
    {
      "cell_type": "code",
      "metadata": {
        "colab": {
          "base_uri": "https://localhost:8080/"
        },
        "id": "j8MbwxXj_Ffg",
        "outputId": "fe12e109-8460-447f-c487-9a1f93f1394d"
      },
      "source": [
        "query = \"\"\"\n",
        "CREATE TABLE course (\n",
        "    admission_no INT PRIMARY KEY,\n",
        "    name VARCHAR(33),\n",
        "    section VARCHAR(2),\n",
        "    mse1 INT,\n",
        "    mse2 INT,\n",
        "    assignment INT,\n",
        "    class_performance INT\n",
        ")\n",
        "\"\"\"\n",
        "db.execute(query)"
      ],
      "execution_count": 7,
      "outputs": [
        {
          "output_type": "execute_result",
          "data": {
            "text/plain": [
              "<sqlite3.Cursor at 0x7f27189f79d0>"
            ]
          },
          "metadata": {
            "tags": []
          },
          "execution_count": 7
        }
      ]
    },
    {
      "cell_type": "code",
      "metadata": {
        "id": "vXkbAxPz_feT"
      },
      "source": [
        "query = \"\"\"\n",
        "INSERT INTO course VALUES (?, ?, ?, ?, ?, ?, ?)\n",
        "\"\"\"\n",
        "\n",
        "for row in df.itertuples():\n",
        "    db.execute(query, tuple(row[1:]))\n",
        "db.commit()"
      ],
      "execution_count": 8,
      "outputs": []
    },
    {
      "cell_type": "code",
      "metadata": {
        "id": "6RbXS-USBv9T"
      },
      "source": [
        "db.close()"
      ],
      "execution_count": 12,
      "outputs": []
    }
  ]
}