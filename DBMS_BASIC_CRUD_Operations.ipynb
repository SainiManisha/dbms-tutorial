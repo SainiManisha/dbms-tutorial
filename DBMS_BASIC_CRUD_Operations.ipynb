{
  "nbformat": 4,
  "nbformat_minor": 0,
  "metadata": {
    "colab": {
      "name": "Running Queries using an New Table.ipynb",
      "provenance": [],
      "collapsed_sections": [],
      "include_colab_link": true
    },
    "kernelspec": {
      "name": "python3",
      "display_name": "Python 3"
    }
  },
  "cells": [
    {
      "cell_type": "markdown",
      "metadata": {
        "id": "view-in-github",
        "colab_type": "text"
      },
      "source": [
        "<a href=\"https://colab.research.google.com/github/SainiManisha/dbms-tutorial/blob/master/DBMS_BASIC_CRUD_Operations.ipynb\" target=\"_parent\"><img src=\"https://colab.research.google.com/assets/colab-badge.svg\" alt=\"Open In Colab\"/></a>"
      ]
    },
    {
      "cell_type": "markdown",
      "metadata": {
        "id": "_omnXhS_1jNE"
      },
      "source": [
        "## SQL Queries\n",
        "1. DDL Queries\n",
        "    - CREATE TABLE\n",
        "2. CRUD Operations (DML Queries)\n",
        "    - INSERT\n",
        "    - SELECT\n",
        "    - UPDATE\n",
        "    - DELETE"
      ]
    },
    {
      "cell_type": "code",
      "metadata": {
        "id": "AnE1vYlgDEOw"
      },
      "source": [
        "import pandas as pd\n",
        "import sqlite3 as sql"
      ],
      "execution_count": 1,
      "outputs": []
    },
    {
      "cell_type": "code",
      "metadata": {
        "id": "hwUBVYNUDGAg"
      },
      "source": [
        " conn=sql.connect('DBMS_Class_database.db')"
      ],
      "execution_count": 2,
      "outputs": []
    },
    {
      "cell_type": "markdown",
      "metadata": {
        "id": "1vLM03Jo1hzD"
      },
      "source": [
        "Create a table for student information of MTech."
      ]
    },
    {
      "cell_type": "code",
      "metadata": {
        "colab": {
          "base_uri": "https://localhost:8080/"
        },
        "id": "BSeMUVpveTHd",
        "outputId": "66307342-1da7-4a18-ec0b-f534453560ad"
      },
      "source": [
        "conn.execute('''Create table student_MTech \n",
        "(id integer primary key not null,\n",
        "Student_Name char(20) not null, \n",
        "Class_and_section varchar, \n",
        "Mid_Semester_Marks integer,\n",
        "End_Semester_Marks integer)''')"
      ],
      "execution_count": 4,
      "outputs": [
        {
          "output_type": "execute_result",
          "data": {
            "text/plain": [
              "<sqlite3.Cursor at 0x7fb897e04960>"
            ]
          },
          "metadata": {
            "tags": []
          },
          "execution_count": 4
        }
      ]
    },
    {
      "cell_type": "code",
      "metadata": {
        "colab": {
          "base_uri": "https://localhost:8080/",
          "height": 49
        },
        "id": "VZ4hUhttiw25",
        "outputId": "09ab2eea-5293-462a-ad0a-64701f15b7d2"
      },
      "source": [
        "pd.read_sql(\"SELECT * FROM student_MTech\", conn)"
      ],
      "execution_count": 5,
      "outputs": [
        {
          "output_type": "execute_result",
          "data": {
            "text/html": [
              "<div>\n",
              "<style scoped>\n",
              "    .dataframe tbody tr th:only-of-type {\n",
              "        vertical-align: middle;\n",
              "    }\n",
              "\n",
              "    .dataframe tbody tr th {\n",
              "        vertical-align: top;\n",
              "    }\n",
              "\n",
              "    .dataframe thead th {\n",
              "        text-align: right;\n",
              "    }\n",
              "</style>\n",
              "<table border=\"1\" class=\"dataframe\">\n",
              "  <thead>\n",
              "    <tr style=\"text-align: right;\">\n",
              "      <th></th>\n",
              "      <th>id</th>\n",
              "      <th>Student_Name</th>\n",
              "      <th>Class_and_section</th>\n",
              "      <th>Mid_Semester_Marks</th>\n",
              "      <th>End_Semester_Marks</th>\n",
              "    </tr>\n",
              "  </thead>\n",
              "  <tbody>\n",
              "  </tbody>\n",
              "</table>\n",
              "</div>"
            ],
            "text/plain": [
              "Empty DataFrame\n",
              "Columns: [id, Student_Name, Class_and_section, Mid_Semester_Marks, End_Semester_Marks]\n",
              "Index: []"
            ]
          },
          "metadata": {
            "tags": []
          },
          "execution_count": 5
        }
      ]
    },
    {
      "cell_type": "code",
      "metadata": {
        "id": "9VZAtkheeaZU"
      },
      "source": [
        "def insert_Postgraduatecoursestudent (id, Student_Name, Class_and_section, Mid_Semester_Marks, End_Semester_Marks): \n",
        "    query=\"Insert into student_MTech values (?,?,?,?,?);\" \n",
        "    conn.execute(query,(id, Student_Name, Class_and_section, Mid_Semester_Marks, End_Semester_Marks)) \n",
        "    conn.commit()"
      ],
      "execution_count": 6,
      "outputs": []
    },
    {
      "cell_type": "code",
      "metadata": {
        "id": "ZzyKKn7_ej0h"
      },
      "source": [
        "insert_Postgraduatecoursestudent (120641,\"Cetal\", \"T1Group\", 60,70)\n",
        "insert_Postgraduatecoursestudent (120642,\"Kbridge\",\"T2Group\",45,60)\n",
        "insert_Postgraduatecoursestudent (120643,\"Track\",\"T3Group\",90,100)\n",
        "\n",
        "insert_Postgraduatecoursestudent (120644,\"Ietal\", \"T1Group\", 60,70)\n",
        "insert_Postgraduatecoursestudent (120645,\"Bettle\",\"T2Group\",45,60)\n",
        "insert_Postgraduatecoursestudent (120646,\"Volkswagen\",\"T3Group\",90,100)"
      ],
      "execution_count": 7,
      "outputs": []
    },
    {
      "cell_type": "code",
      "metadata": {
        "colab": {
          "base_uri": "https://localhost:8080/"
        },
        "id": "2lfUegffgFfb",
        "outputId": "2622a9d7-75b4-467e-c05f-934b12f30534"
      },
      "source": [
        "for row in conn.execute(\"Select * from student_MTech\"):\n",
        "    print(row)"
      ],
      "execution_count": 8,
      "outputs": [
        {
          "output_type": "stream",
          "text": [
            "(120641, 'Cetal', 'T1Group', 60, 70)\n",
            "(120642, 'Kbridge', 'T2Group', 45, 60)\n",
            "(120643, 'Track', 'T3Group', 90, 100)\n",
            "(120644, 'Ietal', 'T1Group', 60, 70)\n",
            "(120645, 'Bettle', 'T2Group', 45, 60)\n",
            "(120646, 'Volkswagen', 'T3Group', 90, 100)\n"
          ],
          "name": "stdout"
        }
      ]
    },
    {
      "cell_type": "code",
      "metadata": {
        "colab": {
          "base_uri": "https://localhost:8080/",
          "height": 235
        },
        "id": "V5ufj316jpLM",
        "outputId": "6055be2e-9c7d-4221-ca66-69c41a3fb635"
      },
      "source": [
        "pd.read_sql(\"SELECT * FROM student_MTech\", conn)"
      ],
      "execution_count": 9,
      "outputs": [
        {
          "output_type": "execute_result",
          "data": {
            "text/html": [
              "<div>\n",
              "<style scoped>\n",
              "    .dataframe tbody tr th:only-of-type {\n",
              "        vertical-align: middle;\n",
              "    }\n",
              "\n",
              "    .dataframe tbody tr th {\n",
              "        vertical-align: top;\n",
              "    }\n",
              "\n",
              "    .dataframe thead th {\n",
              "        text-align: right;\n",
              "    }\n",
              "</style>\n",
              "<table border=\"1\" class=\"dataframe\">\n",
              "  <thead>\n",
              "    <tr style=\"text-align: right;\">\n",
              "      <th></th>\n",
              "      <th>id</th>\n",
              "      <th>Student_Name</th>\n",
              "      <th>Class_and_section</th>\n",
              "      <th>Mid_Semester_Marks</th>\n",
              "      <th>End_Semester_Marks</th>\n",
              "    </tr>\n",
              "  </thead>\n",
              "  <tbody>\n",
              "    <tr>\n",
              "      <th>0</th>\n",
              "      <td>120641</td>\n",
              "      <td>Cetal</td>\n",
              "      <td>T1Group</td>\n",
              "      <td>60</td>\n",
              "      <td>70</td>\n",
              "    </tr>\n",
              "    <tr>\n",
              "      <th>1</th>\n",
              "      <td>120642</td>\n",
              "      <td>Kbridge</td>\n",
              "      <td>T2Group</td>\n",
              "      <td>45</td>\n",
              "      <td>60</td>\n",
              "    </tr>\n",
              "    <tr>\n",
              "      <th>2</th>\n",
              "      <td>120643</td>\n",
              "      <td>Track</td>\n",
              "      <td>T3Group</td>\n",
              "      <td>90</td>\n",
              "      <td>100</td>\n",
              "    </tr>\n",
              "    <tr>\n",
              "      <th>3</th>\n",
              "      <td>120644</td>\n",
              "      <td>Ietal</td>\n",
              "      <td>T1Group</td>\n",
              "      <td>60</td>\n",
              "      <td>70</td>\n",
              "    </tr>\n",
              "    <tr>\n",
              "      <th>4</th>\n",
              "      <td>120645</td>\n",
              "      <td>Bettle</td>\n",
              "      <td>T2Group</td>\n",
              "      <td>45</td>\n",
              "      <td>60</td>\n",
              "    </tr>\n",
              "    <tr>\n",
              "      <th>5</th>\n",
              "      <td>120646</td>\n",
              "      <td>Volkswagen</td>\n",
              "      <td>T3Group</td>\n",
              "      <td>90</td>\n",
              "      <td>100</td>\n",
              "    </tr>\n",
              "  </tbody>\n",
              "</table>\n",
              "</div>"
            ],
            "text/plain": [
              "       id Student_Name  ... Mid_Semester_Marks  End_Semester_Marks\n",
              "0  120641        Cetal  ...                 60                  70\n",
              "1  120642      Kbridge  ...                 45                  60\n",
              "2  120643        Track  ...                 90                 100\n",
              "3  120644        Ietal  ...                 60                  70\n",
              "4  120645       Bettle  ...                 45                  60\n",
              "5  120646   Volkswagen  ...                 90                 100\n",
              "\n",
              "[6 rows x 5 columns]"
            ]
          },
          "metadata": {
            "tags": []
          },
          "execution_count": 9
        }
      ]
    },
    {
      "cell_type": "markdown",
      "metadata": {
        "id": "mkUbgnYi1a18"
      },
      "source": [
        "Create a table for student information of BTech."
      ]
    },
    {
      "cell_type": "code",
      "metadata": {
        "colab": {
          "base_uri": "https://localhost:8080/"
        },
        "id": "HVcZYF_DfeNb",
        "outputId": "0aa0a576-5203-40e2-82ea-f005cb124efb"
      },
      "source": [
        "conn.execute('''Create table student_BTech \n",
        "(ID integer primary key not null,\n",
        "Student_Name char(20) not null, \n",
        "Class_and_section varchar, \n",
        "Mid_Semester_Marks integer,\n",
        "End_Semester_Marks integer)''')"
      ],
      "execution_count": 11,
      "outputs": [
        {
          "output_type": "execute_result",
          "data": {
            "text/plain": [
              "<sqlite3.Cursor at 0x7fb896b8db20>"
            ]
          },
          "metadata": {
            "tags": []
          },
          "execution_count": 11
        }
      ]
    },
    {
      "cell_type": "code",
      "metadata": {
        "id": "3yPNVLZOfeJ3"
      },
      "source": [
        "def insert_Undergraduatecoursestudent (ID, Student_Name, Class_and_section, Mid_Semester_Marks,End_Semester_Marks): \n",
        "    query=\"Insert into student_BTech (ID, Student_Name, Class_and_section, Mid_Semester_Marks, End_Semester_Marks) values(?,?,?,?,?);\" \n",
        "    conn.execute(query,(ID, Student_Name, Class_and_section, Mid_Semester_Marks, End_Semester_Marks)) \n",
        "    conn.commit()"
      ],
      "execution_count": 12,
      "outputs": []
    },
    {
      "cell_type": "code",
      "metadata": {
        "id": "hwTP8n17fz9Z"
      },
      "source": [
        "insert_Undergraduatecoursestudent (120641,\"Reka\", \"T1Group\", 60, 70)\n",
        "insert_Undergraduatecoursestudent (120642,\"Galvin\",\"T2Group\",45, 60)\n",
        "insert_Undergraduatecoursestudent (120643,\"Sia\",\"TA\",90,100)\n",
        "insert_Undergraduatecoursestudent (120644, \"Siajajska\",\"T2Group\",90,100)"
      ],
      "execution_count": 13,
      "outputs": []
    },
    {
      "cell_type": "code",
      "metadata": {
        "colab": {
          "base_uri": "https://localhost:8080/"
        },
        "id": "WFjhedYigOJi",
        "outputId": "184f9f9c-3cbe-4ccf-d56a-3088efda1081"
      },
      "source": [
        "for row in conn.execute(\"Select * from student_BTech\"):\n",
        "    print(row)"
      ],
      "execution_count": 14,
      "outputs": [
        {
          "output_type": "stream",
          "text": [
            "(120641, 'Reka', 'T1Group', 60, 70)\n",
            "(120642, 'Galvin', 'T2Group', 45, 60)\n",
            "(120643, 'Sia', 'TA', 90, 100)\n",
            "(120644, 'Siajajska', 'T2Group', 90, 100)\n"
          ],
          "name": "stdout"
        }
      ]
    },
    {
      "cell_type": "markdown",
      "metadata": {
        "id": "Xbm1A6ybrFKc"
      },
      "source": [
        "Show details of all students."
      ]
    },
    {
      "cell_type": "code",
      "metadata": {
        "colab": {
          "base_uri": "https://localhost:8080/",
          "height": 359
        },
        "id": "utv8uj5-jk0j",
        "outputId": "9c882007-9747-412a-8d11-d0b3fd03297a"
      },
      "source": [
        "pd.read_sql(\"SELECT * FROM student_BTech UNION SELECT * FROM student_MTech\", conn)"
      ],
      "execution_count": 15,
      "outputs": [
        {
          "output_type": "execute_result",
          "data": {
            "text/html": [
              "<div>\n",
              "<style scoped>\n",
              "    .dataframe tbody tr th:only-of-type {\n",
              "        vertical-align: middle;\n",
              "    }\n",
              "\n",
              "    .dataframe tbody tr th {\n",
              "        vertical-align: top;\n",
              "    }\n",
              "\n",
              "    .dataframe thead th {\n",
              "        text-align: right;\n",
              "    }\n",
              "</style>\n",
              "<table border=\"1\" class=\"dataframe\">\n",
              "  <thead>\n",
              "    <tr style=\"text-align: right;\">\n",
              "      <th></th>\n",
              "      <th>ID</th>\n",
              "      <th>Student_Name</th>\n",
              "      <th>Class_and_section</th>\n",
              "      <th>Mid_Semester_Marks</th>\n",
              "      <th>End_Semester_Marks</th>\n",
              "    </tr>\n",
              "  </thead>\n",
              "  <tbody>\n",
              "    <tr>\n",
              "      <th>0</th>\n",
              "      <td>120641</td>\n",
              "      <td>Cetal</td>\n",
              "      <td>T1Group</td>\n",
              "      <td>60</td>\n",
              "      <td>70</td>\n",
              "    </tr>\n",
              "    <tr>\n",
              "      <th>1</th>\n",
              "      <td>120641</td>\n",
              "      <td>Reka</td>\n",
              "      <td>T1Group</td>\n",
              "      <td>60</td>\n",
              "      <td>70</td>\n",
              "    </tr>\n",
              "    <tr>\n",
              "      <th>2</th>\n",
              "      <td>120642</td>\n",
              "      <td>Galvin</td>\n",
              "      <td>T2Group</td>\n",
              "      <td>45</td>\n",
              "      <td>60</td>\n",
              "    </tr>\n",
              "    <tr>\n",
              "      <th>3</th>\n",
              "      <td>120642</td>\n",
              "      <td>Kbridge</td>\n",
              "      <td>T2Group</td>\n",
              "      <td>45</td>\n",
              "      <td>60</td>\n",
              "    </tr>\n",
              "    <tr>\n",
              "      <th>4</th>\n",
              "      <td>120643</td>\n",
              "      <td>Sia</td>\n",
              "      <td>TA</td>\n",
              "      <td>90</td>\n",
              "      <td>100</td>\n",
              "    </tr>\n",
              "    <tr>\n",
              "      <th>5</th>\n",
              "      <td>120643</td>\n",
              "      <td>Track</td>\n",
              "      <td>T3Group</td>\n",
              "      <td>90</td>\n",
              "      <td>100</td>\n",
              "    </tr>\n",
              "    <tr>\n",
              "      <th>6</th>\n",
              "      <td>120644</td>\n",
              "      <td>Ietal</td>\n",
              "      <td>T1Group</td>\n",
              "      <td>60</td>\n",
              "      <td>70</td>\n",
              "    </tr>\n",
              "    <tr>\n",
              "      <th>7</th>\n",
              "      <td>120644</td>\n",
              "      <td>Siajajska</td>\n",
              "      <td>T2Group</td>\n",
              "      <td>90</td>\n",
              "      <td>100</td>\n",
              "    </tr>\n",
              "    <tr>\n",
              "      <th>8</th>\n",
              "      <td>120645</td>\n",
              "      <td>Bettle</td>\n",
              "      <td>T2Group</td>\n",
              "      <td>45</td>\n",
              "      <td>60</td>\n",
              "    </tr>\n",
              "    <tr>\n",
              "      <th>9</th>\n",
              "      <td>120646</td>\n",
              "      <td>Volkswagen</td>\n",
              "      <td>T3Group</td>\n",
              "      <td>90</td>\n",
              "      <td>100</td>\n",
              "    </tr>\n",
              "  </tbody>\n",
              "</table>\n",
              "</div>"
            ],
            "text/plain": [
              "       ID Student_Name  ... Mid_Semester_Marks  End_Semester_Marks\n",
              "0  120641        Cetal  ...                 60                  70\n",
              "1  120641         Reka  ...                 60                  70\n",
              "2  120642       Galvin  ...                 45                  60\n",
              "3  120642      Kbridge  ...                 45                  60\n",
              "4  120643          Sia  ...                 90                 100\n",
              "5  120643        Track  ...                 90                 100\n",
              "6  120644        Ietal  ...                 60                  70\n",
              "7  120644    Siajajska  ...                 90                 100\n",
              "8  120645       Bettle  ...                 45                  60\n",
              "9  120646   Volkswagen  ...                 90                 100\n",
              "\n",
              "[10 rows x 5 columns]"
            ]
          },
          "metadata": {
            "tags": []
          },
          "execution_count": 15
        }
      ]
    },
    {
      "cell_type": "code",
      "metadata": {
        "colab": {
          "base_uri": "https://localhost:8080/",
          "height": 425
        },
        "id": "iGYekSBorwGB",
        "outputId": "04396024-f62a-496f-a652-a8c43052c861"
      },
      "source": [
        "from IPython.display import display\n",
        "\n",
        "print(\"B.Tech Students\")\n",
        "display(pd.read_sql(\"SELECT * FROM student_BTech\", conn))\n",
        "\n",
        "print(\"M.Tech Students\")\n",
        "display(pd.read_sql(\"SELECT * FROM student_MTech\", conn))"
      ],
      "execution_count": 16,
      "outputs": [
        {
          "output_type": "stream",
          "text": [
            "B.Tech Students\n"
          ],
          "name": "stdout"
        },
        {
          "output_type": "display_data",
          "data": {
            "text/html": [
              "<div>\n",
              "<style scoped>\n",
              "    .dataframe tbody tr th:only-of-type {\n",
              "        vertical-align: middle;\n",
              "    }\n",
              "\n",
              "    .dataframe tbody tr th {\n",
              "        vertical-align: top;\n",
              "    }\n",
              "\n",
              "    .dataframe thead th {\n",
              "        text-align: right;\n",
              "    }\n",
              "</style>\n",
              "<table border=\"1\" class=\"dataframe\">\n",
              "  <thead>\n",
              "    <tr style=\"text-align: right;\">\n",
              "      <th></th>\n",
              "      <th>ID</th>\n",
              "      <th>Student_Name</th>\n",
              "      <th>Class_and_section</th>\n",
              "      <th>Mid_Semester_Marks</th>\n",
              "      <th>End_Semester_Marks</th>\n",
              "    </tr>\n",
              "  </thead>\n",
              "  <tbody>\n",
              "    <tr>\n",
              "      <th>0</th>\n",
              "      <td>120641</td>\n",
              "      <td>Reka</td>\n",
              "      <td>T1Group</td>\n",
              "      <td>60</td>\n",
              "      <td>70</td>\n",
              "    </tr>\n",
              "    <tr>\n",
              "      <th>1</th>\n",
              "      <td>120642</td>\n",
              "      <td>Galvin</td>\n",
              "      <td>T2Group</td>\n",
              "      <td>45</td>\n",
              "      <td>60</td>\n",
              "    </tr>\n",
              "    <tr>\n",
              "      <th>2</th>\n",
              "      <td>120643</td>\n",
              "      <td>Sia</td>\n",
              "      <td>TA</td>\n",
              "      <td>90</td>\n",
              "      <td>100</td>\n",
              "    </tr>\n",
              "    <tr>\n",
              "      <th>3</th>\n",
              "      <td>120644</td>\n",
              "      <td>Siajajska</td>\n",
              "      <td>T2Group</td>\n",
              "      <td>90</td>\n",
              "      <td>100</td>\n",
              "    </tr>\n",
              "  </tbody>\n",
              "</table>\n",
              "</div>"
            ],
            "text/plain": [
              "       ID Student_Name  ... Mid_Semester_Marks  End_Semester_Marks\n",
              "0  120641         Reka  ...                 60                  70\n",
              "1  120642       Galvin  ...                 45                  60\n",
              "2  120643          Sia  ...                 90                 100\n",
              "3  120644    Siajajska  ...                 90                 100\n",
              "\n",
              "[4 rows x 5 columns]"
            ]
          },
          "metadata": {
            "tags": []
          }
        },
        {
          "output_type": "stream",
          "text": [
            "M.Tech Students\n"
          ],
          "name": "stdout"
        },
        {
          "output_type": "display_data",
          "data": {
            "text/html": [
              "<div>\n",
              "<style scoped>\n",
              "    .dataframe tbody tr th:only-of-type {\n",
              "        vertical-align: middle;\n",
              "    }\n",
              "\n",
              "    .dataframe tbody tr th {\n",
              "        vertical-align: top;\n",
              "    }\n",
              "\n",
              "    .dataframe thead th {\n",
              "        text-align: right;\n",
              "    }\n",
              "</style>\n",
              "<table border=\"1\" class=\"dataframe\">\n",
              "  <thead>\n",
              "    <tr style=\"text-align: right;\">\n",
              "      <th></th>\n",
              "      <th>id</th>\n",
              "      <th>Student_Name</th>\n",
              "      <th>Class_and_section</th>\n",
              "      <th>Mid_Semester_Marks</th>\n",
              "      <th>End_Semester_Marks</th>\n",
              "    </tr>\n",
              "  </thead>\n",
              "  <tbody>\n",
              "    <tr>\n",
              "      <th>0</th>\n",
              "      <td>120641</td>\n",
              "      <td>Cetal</td>\n",
              "      <td>T1Group</td>\n",
              "      <td>60</td>\n",
              "      <td>70</td>\n",
              "    </tr>\n",
              "    <tr>\n",
              "      <th>1</th>\n",
              "      <td>120642</td>\n",
              "      <td>Kbridge</td>\n",
              "      <td>T2Group</td>\n",
              "      <td>45</td>\n",
              "      <td>60</td>\n",
              "    </tr>\n",
              "    <tr>\n",
              "      <th>2</th>\n",
              "      <td>120643</td>\n",
              "      <td>Track</td>\n",
              "      <td>T3Group</td>\n",
              "      <td>90</td>\n",
              "      <td>100</td>\n",
              "    </tr>\n",
              "    <tr>\n",
              "      <th>3</th>\n",
              "      <td>120644</td>\n",
              "      <td>Ietal</td>\n",
              "      <td>T1Group</td>\n",
              "      <td>60</td>\n",
              "      <td>70</td>\n",
              "    </tr>\n",
              "    <tr>\n",
              "      <th>4</th>\n",
              "      <td>120645</td>\n",
              "      <td>Bettle</td>\n",
              "      <td>T2Group</td>\n",
              "      <td>45</td>\n",
              "      <td>60</td>\n",
              "    </tr>\n",
              "    <tr>\n",
              "      <th>5</th>\n",
              "      <td>120646</td>\n",
              "      <td>Volkswagen</td>\n",
              "      <td>T3Group</td>\n",
              "      <td>90</td>\n",
              "      <td>100</td>\n",
              "    </tr>\n",
              "  </tbody>\n",
              "</table>\n",
              "</div>"
            ],
            "text/plain": [
              "       id Student_Name  ... Mid_Semester_Marks  End_Semester_Marks\n",
              "0  120641        Cetal  ...                 60                  70\n",
              "1  120642      Kbridge  ...                 45                  60\n",
              "2  120643        Track  ...                 90                 100\n",
              "3  120644        Ietal  ...                 60                  70\n",
              "4  120645       Bettle  ...                 45                  60\n",
              "5  120646   Volkswagen  ...                 90                 100\n",
              "\n",
              "[6 rows x 5 columns]"
            ]
          },
          "metadata": {
            "tags": []
          }
        }
      ]
    },
    {
      "cell_type": "markdown",
      "metadata": {
        "id": "ytvf78h4qSl_"
      },
      "source": [
        "Find the total number of students in MTech.\n"
      ]
    },
    {
      "cell_type": "code",
      "metadata": {
        "colab": {
          "base_uri": "https://localhost:8080/",
          "height": 80
        },
        "id": "9hpgj1bUn3t7",
        "outputId": "8c7e7887-79b6-49aa-8433-9ca476112c4a"
      },
      "source": [
        "query = \"\"\"\n",
        "SELECT COUNT(*) FROM student_MTech\n",
        "\"\"\"\n",
        "\n",
        "pd.read_sql(query, conn)"
      ],
      "execution_count": 17,
      "outputs": [
        {
          "output_type": "execute_result",
          "data": {
            "text/html": [
              "<div>\n",
              "<style scoped>\n",
              "    .dataframe tbody tr th:only-of-type {\n",
              "        vertical-align: middle;\n",
              "    }\n",
              "\n",
              "    .dataframe tbody tr th {\n",
              "        vertical-align: top;\n",
              "    }\n",
              "\n",
              "    .dataframe thead th {\n",
              "        text-align: right;\n",
              "    }\n",
              "</style>\n",
              "<table border=\"1\" class=\"dataframe\">\n",
              "  <thead>\n",
              "    <tr style=\"text-align: right;\">\n",
              "      <th></th>\n",
              "      <th>COUNT(*)</th>\n",
              "    </tr>\n",
              "  </thead>\n",
              "  <tbody>\n",
              "    <tr>\n",
              "      <th>0</th>\n",
              "      <td>6</td>\n",
              "    </tr>\n",
              "  </tbody>\n",
              "</table>\n",
              "</div>"
            ],
            "text/plain": [
              "   COUNT(*)\n",
              "0         6"
            ]
          },
          "metadata": {
            "tags": []
          },
          "execution_count": 17
        }
      ]
    },
    {
      "cell_type": "markdown",
      "metadata": {
        "id": "DZL9tSQqqWwE"
      },
      "source": [
        "The total number of students in BTech."
      ]
    },
    {
      "cell_type": "code",
      "metadata": {
        "colab": {
          "base_uri": "https://localhost:8080/",
          "height": 80
        },
        "id": "FNRq6PFXn3rF",
        "outputId": "04d4ae51-52d4-491d-84ff-317cdb2f72ad"
      },
      "source": [
        "query = \"\"\"\n",
        "SELECT COUNT(*) FROM student_BTech\n",
        "\"\"\"\n",
        "\n",
        "pd.read_sql(query, conn)"
      ],
      "execution_count": 18,
      "outputs": [
        {
          "output_type": "execute_result",
          "data": {
            "text/html": [
              "<div>\n",
              "<style scoped>\n",
              "    .dataframe tbody tr th:only-of-type {\n",
              "        vertical-align: middle;\n",
              "    }\n",
              "\n",
              "    .dataframe tbody tr th {\n",
              "        vertical-align: top;\n",
              "    }\n",
              "\n",
              "    .dataframe thead th {\n",
              "        text-align: right;\n",
              "    }\n",
              "</style>\n",
              "<table border=\"1\" class=\"dataframe\">\n",
              "  <thead>\n",
              "    <tr style=\"text-align: right;\">\n",
              "      <th></th>\n",
              "      <th>COUNT(*)</th>\n",
              "    </tr>\n",
              "  </thead>\n",
              "  <tbody>\n",
              "    <tr>\n",
              "      <th>0</th>\n",
              "      <td>4</td>\n",
              "    </tr>\n",
              "  </tbody>\n",
              "</table>\n",
              "</div>"
            ],
            "text/plain": [
              "   COUNT(*)\n",
              "0         4"
            ]
          },
          "metadata": {
            "tags": []
          },
          "execution_count": 18
        }
      ]
    },
    {
      "cell_type": "markdown",
      "metadata": {
        "id": "W0lktDtqvN7i"
      },
      "source": [
        "Show list of T2 students in ascending order of name."
      ]
    },
    {
      "cell_type": "code",
      "metadata": {
        "colab": {
          "base_uri": "https://localhost:8080/",
          "height": 111
        },
        "id": "OSwAyhgsqw28",
        "outputId": "e6738279-f7cf-40d9-d4db-02f5897eb189"
      },
      "source": [
        "query = \"\"\"\n",
        "SELECT * FROM student_BTech WHERE Class_and_section = 'T2Group'\n",
        "ORDER BY Student_Name\n",
        "\"\"\"\n",
        "\n",
        "pd.read_sql(query, conn)"
      ],
      "execution_count": 19,
      "outputs": [
        {
          "output_type": "execute_result",
          "data": {
            "text/html": [
              "<div>\n",
              "<style scoped>\n",
              "    .dataframe tbody tr th:only-of-type {\n",
              "        vertical-align: middle;\n",
              "    }\n",
              "\n",
              "    .dataframe tbody tr th {\n",
              "        vertical-align: top;\n",
              "    }\n",
              "\n",
              "    .dataframe thead th {\n",
              "        text-align: right;\n",
              "    }\n",
              "</style>\n",
              "<table border=\"1\" class=\"dataframe\">\n",
              "  <thead>\n",
              "    <tr style=\"text-align: right;\">\n",
              "      <th></th>\n",
              "      <th>ID</th>\n",
              "      <th>Student_Name</th>\n",
              "      <th>Class_and_section</th>\n",
              "      <th>Mid_Semester_Marks</th>\n",
              "      <th>End_Semester_Marks</th>\n",
              "    </tr>\n",
              "  </thead>\n",
              "  <tbody>\n",
              "    <tr>\n",
              "      <th>0</th>\n",
              "      <td>120642</td>\n",
              "      <td>Galvin</td>\n",
              "      <td>T2Group</td>\n",
              "      <td>45</td>\n",
              "      <td>60</td>\n",
              "    </tr>\n",
              "    <tr>\n",
              "      <th>1</th>\n",
              "      <td>120644</td>\n",
              "      <td>Siajajska</td>\n",
              "      <td>T2Group</td>\n",
              "      <td>90</td>\n",
              "      <td>100</td>\n",
              "    </tr>\n",
              "  </tbody>\n",
              "</table>\n",
              "</div>"
            ],
            "text/plain": [
              "       ID Student_Name  ... Mid_Semester_Marks  End_Semester_Marks\n",
              "0  120642       Galvin  ...                 45                  60\n",
              "1  120644    Siajajska  ...                 90                 100\n",
              "\n",
              "[2 rows x 5 columns]"
            ]
          },
          "metadata": {
            "tags": []
          },
          "execution_count": 19
        }
      ]
    },
    {
      "cell_type": "markdown",
      "metadata": {
        "id": "UfKzBGwhykQy"
      },
      "source": [
        "Number of Students in T1Group, T2Group and T3Group for MTech students."
      ]
    },
    {
      "cell_type": "code",
      "metadata": {
        "colab": {
          "base_uri": "https://localhost:8080/",
          "height": 142
        },
        "id": "zL8R7znEyjOT",
        "outputId": "3af646a0-4fc3-4239-e501-994f744dcff5"
      },
      "source": [
        "query = \"\"\"\n",
        "SELECT Class_and_section, COUNT(*) FROM student_MTech GROUP BY Class_and_section\n",
        "\"\"\"\n",
        "\n",
        "pd.read_sql(query, conn)"
      ],
      "execution_count": 20,
      "outputs": [
        {
          "output_type": "execute_result",
          "data": {
            "text/html": [
              "<div>\n",
              "<style scoped>\n",
              "    .dataframe tbody tr th:only-of-type {\n",
              "        vertical-align: middle;\n",
              "    }\n",
              "\n",
              "    .dataframe tbody tr th {\n",
              "        vertical-align: top;\n",
              "    }\n",
              "\n",
              "    .dataframe thead th {\n",
              "        text-align: right;\n",
              "    }\n",
              "</style>\n",
              "<table border=\"1\" class=\"dataframe\">\n",
              "  <thead>\n",
              "    <tr style=\"text-align: right;\">\n",
              "      <th></th>\n",
              "      <th>Class_and_section</th>\n",
              "      <th>COUNT(*)</th>\n",
              "    </tr>\n",
              "  </thead>\n",
              "  <tbody>\n",
              "    <tr>\n",
              "      <th>0</th>\n",
              "      <td>T1Group</td>\n",
              "      <td>2</td>\n",
              "    </tr>\n",
              "    <tr>\n",
              "      <th>1</th>\n",
              "      <td>T2Group</td>\n",
              "      <td>2</td>\n",
              "    </tr>\n",
              "    <tr>\n",
              "      <th>2</th>\n",
              "      <td>T3Group</td>\n",
              "      <td>2</td>\n",
              "    </tr>\n",
              "  </tbody>\n",
              "</table>\n",
              "</div>"
            ],
            "text/plain": [
              "  Class_and_section  COUNT(*)\n",
              "0           T1Group         2\n",
              "1           T2Group         2\n",
              "2           T3Group         2"
            ]
          },
          "metadata": {
            "tags": []
          },
          "execution_count": 20
        }
      ]
    },
    {
      "cell_type": "markdown",
      "metadata": {
        "id": "3SBDHVW5zNoF"
      },
      "source": [
        "Shift all T2 students to T3 group in case to MTech students."
      ]
    },
    {
      "cell_type": "code",
      "metadata": {
        "colab": {
          "base_uri": "https://localhost:8080/",
          "height": 235
        },
        "id": "Lv29zNybvSEg",
        "outputId": "adbe0cd1-a897-442a-ed0f-e6aad733742c"
      },
      "source": [
        "query = \"\"\"\n",
        "UPDATE student_MTech SET Class_and_section = 'T3Group' WHERE Class_and_section = 'T2Group'\n",
        "\"\"\"\n",
        "\n",
        "conn.execute(query)\n",
        "conn.commit()\n",
        "\n",
        "pd.read_sql(\"SELECT * FROM student_MTech\", conn)"
      ],
      "execution_count": 26,
      "outputs": [
        {
          "output_type": "execute_result",
          "data": {
            "text/html": [
              "<div>\n",
              "<style scoped>\n",
              "    .dataframe tbody tr th:only-of-type {\n",
              "        vertical-align: middle;\n",
              "    }\n",
              "\n",
              "    .dataframe tbody tr th {\n",
              "        vertical-align: top;\n",
              "    }\n",
              "\n",
              "    .dataframe thead th {\n",
              "        text-align: right;\n",
              "    }\n",
              "</style>\n",
              "<table border=\"1\" class=\"dataframe\">\n",
              "  <thead>\n",
              "    <tr style=\"text-align: right;\">\n",
              "      <th></th>\n",
              "      <th>id</th>\n",
              "      <th>Student_Name</th>\n",
              "      <th>Class_and_section</th>\n",
              "      <th>Mid_Semester_Marks</th>\n",
              "      <th>End_Semester_Marks</th>\n",
              "    </tr>\n",
              "  </thead>\n",
              "  <tbody>\n",
              "    <tr>\n",
              "      <th>0</th>\n",
              "      <td>120641</td>\n",
              "      <td>Cetal</td>\n",
              "      <td>T1Group</td>\n",
              "      <td>60</td>\n",
              "      <td>70</td>\n",
              "    </tr>\n",
              "    <tr>\n",
              "      <th>1</th>\n",
              "      <td>120642</td>\n",
              "      <td>Kbridge</td>\n",
              "      <td>T3Group</td>\n",
              "      <td>45</td>\n",
              "      <td>60</td>\n",
              "    </tr>\n",
              "    <tr>\n",
              "      <th>2</th>\n",
              "      <td>120643</td>\n",
              "      <td>Track</td>\n",
              "      <td>T3Group</td>\n",
              "      <td>90</td>\n",
              "      <td>100</td>\n",
              "    </tr>\n",
              "    <tr>\n",
              "      <th>3</th>\n",
              "      <td>120644</td>\n",
              "      <td>Ietal</td>\n",
              "      <td>T1Group</td>\n",
              "      <td>60</td>\n",
              "      <td>70</td>\n",
              "    </tr>\n",
              "    <tr>\n",
              "      <th>4</th>\n",
              "      <td>120645</td>\n",
              "      <td>Bettle</td>\n",
              "      <td>T3Group</td>\n",
              "      <td>45</td>\n",
              "      <td>60</td>\n",
              "    </tr>\n",
              "    <tr>\n",
              "      <th>5</th>\n",
              "      <td>120646</td>\n",
              "      <td>Volkswagen</td>\n",
              "      <td>T3Group</td>\n",
              "      <td>90</td>\n",
              "      <td>100</td>\n",
              "    </tr>\n",
              "  </tbody>\n",
              "</table>\n",
              "</div>"
            ],
            "text/plain": [
              "       id Student_Name  ... Mid_Semester_Marks  End_Semester_Marks\n",
              "0  120641        Cetal  ...                 60                  70\n",
              "1  120642      Kbridge  ...                 45                  60\n",
              "2  120643        Track  ...                 90                 100\n",
              "3  120644        Ietal  ...                 60                  70\n",
              "4  120645       Bettle  ...                 45                  60\n",
              "5  120646   Volkswagen  ...                 90                 100\n",
              "\n",
              "[6 rows x 5 columns]"
            ]
          },
          "metadata": {
            "tags": []
          },
          "execution_count": 26
        }
      ]
    },
    {
      "cell_type": "markdown",
      "metadata": {
        "id": "IIah_i7Qzyz6"
      },
      "source": [
        "Remove all students who are in T2 group of BTech."
      ]
    },
    {
      "cell_type": "code",
      "metadata": {
        "colab": {
          "base_uri": "https://localhost:8080/",
          "height": 173
        },
        "id": "olo1JQC4z17e",
        "outputId": "75d703c5-a6e6-4669-d708-c2513ee467ca"
      },
      "source": [
        "query = \"\"\"\n",
        "DELETE FROM student_BTech WHERE Class_and_section = 'T2group'\n",
        "\"\"\"\n",
        "\n",
        "conn.execute(query)\n",
        "conn.commit()\n",
        "\n",
        "pd.read_sql(\"SELECT * FROM student_BTech\", conn)"
      ],
      "execution_count": 29,
      "outputs": [
        {
          "output_type": "execute_result",
          "data": {
            "text/html": [
              "<div>\n",
              "<style scoped>\n",
              "    .dataframe tbody tr th:only-of-type {\n",
              "        vertical-align: middle;\n",
              "    }\n",
              "\n",
              "    .dataframe tbody tr th {\n",
              "        vertical-align: top;\n",
              "    }\n",
              "\n",
              "    .dataframe thead th {\n",
              "        text-align: right;\n",
              "    }\n",
              "</style>\n",
              "<table border=\"1\" class=\"dataframe\">\n",
              "  <thead>\n",
              "    <tr style=\"text-align: right;\">\n",
              "      <th></th>\n",
              "      <th>ID</th>\n",
              "      <th>Student_Name</th>\n",
              "      <th>Class_and_section</th>\n",
              "      <th>Mid_Semester_Marks</th>\n",
              "      <th>End_Semester_Marks</th>\n",
              "    </tr>\n",
              "  </thead>\n",
              "  <tbody>\n",
              "    <tr>\n",
              "      <th>0</th>\n",
              "      <td>120641</td>\n",
              "      <td>Reka</td>\n",
              "      <td>T1Group</td>\n",
              "      <td>60</td>\n",
              "      <td>70</td>\n",
              "    </tr>\n",
              "    <tr>\n",
              "      <th>1</th>\n",
              "      <td>120642</td>\n",
              "      <td>Galvin</td>\n",
              "      <td>T2Group</td>\n",
              "      <td>45</td>\n",
              "      <td>60</td>\n",
              "    </tr>\n",
              "    <tr>\n",
              "      <th>2</th>\n",
              "      <td>120643</td>\n",
              "      <td>Sia</td>\n",
              "      <td>TA</td>\n",
              "      <td>90</td>\n",
              "      <td>100</td>\n",
              "    </tr>\n",
              "    <tr>\n",
              "      <th>3</th>\n",
              "      <td>120644</td>\n",
              "      <td>Siajajska</td>\n",
              "      <td>T2Group</td>\n",
              "      <td>90</td>\n",
              "      <td>100</td>\n",
              "    </tr>\n",
              "  </tbody>\n",
              "</table>\n",
              "</div>"
            ],
            "text/plain": [
              "       ID Student_Name  ... Mid_Semester_Marks  End_Semester_Marks\n",
              "0  120641         Reka  ...                 60                  70\n",
              "1  120642       Galvin  ...                 45                  60\n",
              "2  120643          Sia  ...                 90                 100\n",
              "3  120644    Siajajska  ...                 90                 100\n",
              "\n",
              "[4 rows x 5 columns]"
            ]
          },
          "metadata": {
            "tags": []
          },
          "execution_count": 29
        }
      ]
    }
  ]
}