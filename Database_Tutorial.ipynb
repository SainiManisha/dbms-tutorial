{
  "nbformat": 4,
  "nbformat_minor": 0,
  "metadata": {
    "colab": {
      "name": "Database_Tutorial.ipynb",
      "provenance": [],
      "authorship_tag": "ABX9TyPsCIessq7x/b5KKKunSn+8",
      "include_colab_link": true
    },
    "kernelspec": {
      "name": "python3",
      "display_name": "Python 3"
    }
  },
  "cells": [
    {
      "cell_type": "markdown",
      "metadata": {
        "id": "view-in-github",
        "colab_type": "text"
      },
      "source": [
        "<a href=\"https://colab.research.google.com/github/SainiManisha/dbms-tutorial/blob/master/Database_Tutorial.ipynb\" target=\"_parent\"><img src=\"https://colab.research.google.com/assets/colab-badge.svg\" alt=\"Open In Colab\"/></a>"
      ]
    },
    {
      "cell_type": "code",
      "metadata": {
        "id": "NLH9m5ZCoE0F",
        "colab_type": "code",
        "colab": {}
      },
      "source": [
        "import sqlite3\n",
        "import time\n",
        "import datetime\n",
        "import random\n",
        "\n",
        "conn = sqlite3.connect(\"New_database.db\")\n",
        "\n",
        "def create_table():\n",
        "    c = conn.cursor()\n",
        "    c.execute('CREATE TABLE IF NOT EXISTS New_table(unix REAL, datestamp TEXT, keyword TEXT, value REAL)')\n",
        "    c.close()\n",
        "\n",
        "def data_entry():\n",
        "    c = conn.cursor()\n",
        "    c.execute(\"INSERT INTO New_table VALUES (145123542, '2016-01-03', 'Python', 7)\")\n",
        "    conn.commit()\n",
        "    c.close()\n",
        "\n",
        "\n",
        "create_table()\n",
        "data_entry()"
      ],
      "execution_count": null,
      "outputs": []
    },
    {
      "cell_type": "code",
      "metadata": {
        "id": "rmeZ3KxCidCG",
        "colab_type": "code",
        "colab": {}
      },
      "source": [
        "import sqlite3\n",
        "import time\n",
        "import datetime\n",
        "import random\n",
        "\n",
        "conn = sqlite3.connect(\"New_database_try.db\")\n",
        "\n",
        "c = conn.cursor()\n",
        "c.execute('CREATE TABLE IF NOT EXISTS New_table_try(unix REAL, datestamp TEXT, keyword TEXT, value REAL)')\n",
        "c.execute(\"INSERT INTO New_table_try VALUES (145123542, '2016-01-03', 'Python', 7)\")\n",
        "conn.commit()\n"
      ],
      "execution_count": 7,
      "outputs": []
    }
  ]
}