{
  "nbformat": 4,
  "nbformat_minor": 0,
  "metadata": {
    "colab": {
      "name": "JOINS and Basics Commands_SQLITE.ipynb",
      "provenance": [],
      "collapsed_sections": [],
      "authorship_tag": "ABX9TyMRPQng4u4+zmyBguO6Laa9",
      "include_colab_link": true
    },
    "kernelspec": {
      "name": "python3",
      "display_name": "Python 3"
    }
  },
  "cells": [
    {
      "cell_type": "markdown",
      "metadata": {
        "id": "view-in-github",
        "colab_type": "text"
      },
      "source": [
        "<a href=\"https://colab.research.google.com/github/SainiManisha/dbms-tutorial/blob/master/JOINS_and_Basics_Commands_SQLITE.ipynb\" target=\"_parent\"><img src=\"https://colab.research.google.com/assets/colab-badge.svg\" alt=\"Open In Colab\"/></a>"
      ]
    },
    {
      "cell_type": "markdown",
      "metadata": {
        "id": "CzOi3Opl9z_p"
      },
      "source": [
        "# Draw a database design for a TODO App \n",
        "##Design a database for an app that keeps track of TODO lists of its users. \n",
        "##In this app a user can:Create a TODO item with some text in it. Add tags to the TODO items, like homework, groceries etc.. Mark a TODO item as done\n",
        "\n",
        "---\n",
        "\n"
      ]
    },
    {
      "cell_type": "code",
      "metadata": {
        "id": "WbXwCNrkqbGy"
      },
      "source": [
        "import sqlite3"
      ],
      "execution_count": 1,
      "outputs": []
    },
    {
      "cell_type": "code",
      "metadata": {
        "id": "vsXq5CzttssQ"
      },
      "source": [
        "conn=sqlite3.connect('newtodo llist.db')"
      ],
      "execution_count": 2,
      "outputs": []
    },
    {
      "cell_type": "code",
      "metadata": {
        "id": "3TlMQR_wt2zw",
        "outputId": "e0bf10a5-0959-4596-f4d3-5c66013927b4",
        "colab": {
          "base_uri": "https://localhost:8080/",
          "height": 34
        }
      },
      "source": [
        "conn.execute('''CREATE TABLE IF NOT EXISTS todos( \n",
        "                         id INTEGER PRIMARY KEY, \n",
        "                         uid INTEGER DEFAULT NULL,\n",
        "                         task text not null,\n",
        "                         tags text,\n",
        "                         status text)''')"
      ],
      "execution_count": 3,
      "outputs": [
        {
          "output_type": "execute_result",
          "data": {
            "text/plain": [
              "<sqlite3.Cursor at 0x7eff8f78cc70>"
            ]
          },
          "metadata": {
            "tags": []
          },
          "execution_count": 3
        }
      ]
    },
    {
      "cell_type": "code",
      "metadata": {
        "id": "IBqhvPQE7yND",
        "outputId": "771aaa93-cca7-43c9-86d9-c7d3e8b4a05d",
        "colab": {
          "base_uri": "https://localhost:8080/",
          "height": 34
        }
      },
      "source": [
        "conn.execute(\"INSERT INTO TODOS VALUES(1, 2,'task1','homework', 'done')\")"
      ],
      "execution_count": 4,
      "outputs": [
        {
          "output_type": "execute_result",
          "data": {
            "text/plain": [
              "<sqlite3.Cursor at 0x7eff8f78cdc0>"
            ]
          },
          "metadata": {
            "tags": []
          },
          "execution_count": 4
        }
      ]
    },
    {
      "cell_type": "code",
      "metadata": {
        "id": "iWt9vTcb9aMj",
        "outputId": "aeaf5220-3b55-4923-c244-207766d2915c",
        "colab": {
          "base_uri": "https://localhost:8080/",
          "height": 34
        }
      },
      "source": [
        "conn.execute(\"INSERT INTO TODOS VALUES(3, 5,'task2','groceries', 'done')\")"
      ],
      "execution_count": 5,
      "outputs": [
        {
          "output_type": "execute_result",
          "data": {
            "text/plain": [
              "<sqlite3.Cursor at 0x7eff8f78cea0>"
            ]
          },
          "metadata": {
            "tags": []
          },
          "execution_count": 5
        }
      ]
    },
    {
      "cell_type": "code",
      "metadata": {
        "id": "L3Y1Ka2OT_b7",
        "outputId": "1094551b-430d-4ca3-fa20-a7b3bb36cd89",
        "colab": {
          "base_uri": "https://localhost:8080/",
          "height": 34
        }
      },
      "source": [
        "conn.execute(\"INSERT INTO TODOS VALUES(4, 7,'task3','groceries', 'notdone')\")"
      ],
      "execution_count": 6,
      "outputs": [
        {
          "output_type": "execute_result",
          "data": {
            "text/plain": [
              "<sqlite3.Cursor at 0x7eff8f78cf80>"
            ]
          },
          "metadata": {
            "tags": []
          },
          "execution_count": 6
        }
      ]
    },
    {
      "cell_type": "code",
      "metadata": {
        "id": "DIzbPCu0uo-G",
        "outputId": "29d755a6-e02c-4e8c-f4b3-c8ad448affb8",
        "colab": {
          "base_uri": "https://localhost:8080/",
          "height": 67
        }
      },
      "source": [
        "for row in conn.execute('Select * from todos'):\n",
        "    print(row)"
      ],
      "execution_count": 7,
      "outputs": [
        {
          "output_type": "stream",
          "text": [
            "(1, 2, 'task1', 'homework', 'done')\n",
            "(3, 5, 'task2', 'groceries', 'done')\n",
            "(4, 7, 'task3', 'groceries', 'notdone')\n"
          ],
          "name": "stdout"
        }
      ]
    },
    {
      "cell_type": "code",
      "metadata": {
        "id": "Iph14zUayGs3",
        "outputId": "700fbd15-f4ff-4e03-9e38-7e4e29ec7451",
        "colab": {
          "base_uri": "https://localhost:8080/",
          "height": 34
        }
      },
      "source": [
        "conn.execute('''CREATE TABLE IF NOT EXISTS users( \n",
        "                         uid INTEGER PRIMARY KEY, \n",
        "                         name text not null)''')"
      ],
      "execution_count": 8,
      "outputs": [
        {
          "output_type": "execute_result",
          "data": {
            "text/plain": [
              "<sqlite3.Cursor at 0x7eff8eefa110>"
            ]
          },
          "metadata": {
            "tags": []
          },
          "execution_count": 8
        }
      ]
    },
    {
      "cell_type": "code",
      "metadata": {
        "id": "sMC-iJ7IyyND",
        "outputId": "629904d5-eba9-4218-ba89-eb07ca92912f",
        "colab": {
          "base_uri": "https://localhost:8080/",
          "height": 34
        }
      },
      "source": [
        "conn.execute(\"INSERT INTO users(uid, name) VALUES ('2','INSERT user1')\")"
      ],
      "execution_count": 9,
      "outputs": [
        {
          "output_type": "execute_result",
          "data": {
            "text/plain": [
              "<sqlite3.Cursor at 0x7eff8eefa2d0>"
            ]
          },
          "metadata": {
            "tags": []
          },
          "execution_count": 9
        }
      ]
    },
    {
      "cell_type": "code",
      "metadata": {
        "id": "3n9ulgOK_JsZ",
        "outputId": "01f44852-a215-4414-dcbb-7b3d8f6e6308",
        "colab": {
          "base_uri": "https://localhost:8080/",
          "height": 34
        }
      },
      "source": [
        "conn.execute(\"INSERT INTO users(uid, name) VALUES ('5','INSERT user2')\")"
      ],
      "execution_count": 10,
      "outputs": [
        {
          "output_type": "execute_result",
          "data": {
            "text/plain": [
              "<sqlite3.Cursor at 0x7eff8eefa3b0>"
            ]
          },
          "metadata": {
            "tags": []
          },
          "execution_count": 10
        }
      ]
    },
    {
      "cell_type": "code",
      "metadata": {
        "id": "woOY8v93zFQ6",
        "outputId": "39e4091e-15a9-48d9-e6ae-43a1f5e47ec0",
        "colab": {
          "base_uri": "https://localhost:8080/",
          "height": 50
        }
      },
      "source": [
        "for row in conn.execute('Select * from users'):\n",
        "    print(row)"
      ],
      "execution_count": 11,
      "outputs": [
        {
          "output_type": "stream",
          "text": [
            "(2, 'INSERT user1')\n",
            "(5, 'INSERT user2')\n"
          ],
          "name": "stdout"
        }
      ]
    },
    {
      "cell_type": "code",
      "metadata": {
        "id": "Sjm0XMMQNb5K",
        "outputId": "1fe5d0b4-e30e-473f-893a-9949bf2a6b31",
        "colab": {
          "base_uri": "https://localhost:8080/",
          "height": 136
        }
      },
      "source": [
        "import pandas as pd\n",
        "sql= 'select * from todos'\n",
        "pd.read_sql(sql, conn)"
      ],
      "execution_count": 12,
      "outputs": [
        {
          "output_type": "execute_result",
          "data": {
            "text/html": [
              "<div>\n",
              "<style scoped>\n",
              "    .dataframe tbody tr th:only-of-type {\n",
              "        vertical-align: middle;\n",
              "    }\n",
              "\n",
              "    .dataframe tbody tr th {\n",
              "        vertical-align: top;\n",
              "    }\n",
              "\n",
              "    .dataframe thead th {\n",
              "        text-align: right;\n",
              "    }\n",
              "</style>\n",
              "<table border=\"1\" class=\"dataframe\">\n",
              "  <thead>\n",
              "    <tr style=\"text-align: right;\">\n",
              "      <th></th>\n",
              "      <th>id</th>\n",
              "      <th>uid</th>\n",
              "      <th>task</th>\n",
              "      <th>tags</th>\n",
              "      <th>status</th>\n",
              "    </tr>\n",
              "  </thead>\n",
              "  <tbody>\n",
              "    <tr>\n",
              "      <th>0</th>\n",
              "      <td>1</td>\n",
              "      <td>2</td>\n",
              "      <td>task1</td>\n",
              "      <td>homework</td>\n",
              "      <td>done</td>\n",
              "    </tr>\n",
              "    <tr>\n",
              "      <th>1</th>\n",
              "      <td>3</td>\n",
              "      <td>5</td>\n",
              "      <td>task2</td>\n",
              "      <td>groceries</td>\n",
              "      <td>done</td>\n",
              "    </tr>\n",
              "    <tr>\n",
              "      <th>2</th>\n",
              "      <td>4</td>\n",
              "      <td>7</td>\n",
              "      <td>task3</td>\n",
              "      <td>groceries</td>\n",
              "      <td>notdone</td>\n",
              "    </tr>\n",
              "  </tbody>\n",
              "</table>\n",
              "</div>"
            ],
            "text/plain": [
              "   id  uid   task       tags   status\n",
              "0   1    2  task1   homework     done\n",
              "1   3    5  task2  groceries     done\n",
              "2   4    7  task3  groceries  notdone"
            ]
          },
          "metadata": {
            "tags": []
          },
          "execution_count": 12
        }
      ]
    },
    {
      "cell_type": "code",
      "metadata": {
        "id": "tLcZIirqNyXI",
        "outputId": "942221f2-ddab-4dcd-cb9d-991ac9c15b90",
        "colab": {
          "base_uri": "https://localhost:8080/",
          "height": 106
        }
      },
      "source": [
        "import pandas as pd\n",
        "sql= 'select * from users'\n",
        "pd.read_sql(sql, conn)"
      ],
      "execution_count": 13,
      "outputs": [
        {
          "output_type": "execute_result",
          "data": {
            "text/html": [
              "<div>\n",
              "<style scoped>\n",
              "    .dataframe tbody tr th:only-of-type {\n",
              "        vertical-align: middle;\n",
              "    }\n",
              "\n",
              "    .dataframe tbody tr th {\n",
              "        vertical-align: top;\n",
              "    }\n",
              "\n",
              "    .dataframe thead th {\n",
              "        text-align: right;\n",
              "    }\n",
              "</style>\n",
              "<table border=\"1\" class=\"dataframe\">\n",
              "  <thead>\n",
              "    <tr style=\"text-align: right;\">\n",
              "      <th></th>\n",
              "      <th>uid</th>\n",
              "      <th>name</th>\n",
              "    </tr>\n",
              "  </thead>\n",
              "  <tbody>\n",
              "    <tr>\n",
              "      <th>0</th>\n",
              "      <td>2</td>\n",
              "      <td>INSERT user1</td>\n",
              "    </tr>\n",
              "    <tr>\n",
              "      <th>1</th>\n",
              "      <td>5</td>\n",
              "      <td>INSERT user2</td>\n",
              "    </tr>\n",
              "  </tbody>\n",
              "</table>\n",
              "</div>"
            ],
            "text/plain": [
              "   uid          name\n",
              "0    2  INSERT user1\n",
              "1    5  INSERT user2"
            ]
          },
          "metadata": {
            "tags": []
          },
          "execution_count": 13
        }
      ]
    },
    {
      "cell_type": "code",
      "metadata": {
        "id": "Mk9FdzxNOTUY",
        "outputId": "bf078704-08f3-4d24-cb29-c82b3da90ba7",
        "colab": {
          "base_uri": "https://localhost:8080/",
          "height": 225
        }
      },
      "source": [
        "sql= 'SELECT * from todos, users'\n",
        "pd.read_sql(sql, conn)"
      ],
      "execution_count": 14,
      "outputs": [
        {
          "output_type": "execute_result",
          "data": {
            "text/html": [
              "<div>\n",
              "<style scoped>\n",
              "    .dataframe tbody tr th:only-of-type {\n",
              "        vertical-align: middle;\n",
              "    }\n",
              "\n",
              "    .dataframe tbody tr th {\n",
              "        vertical-align: top;\n",
              "    }\n",
              "\n",
              "    .dataframe thead th {\n",
              "        text-align: right;\n",
              "    }\n",
              "</style>\n",
              "<table border=\"1\" class=\"dataframe\">\n",
              "  <thead>\n",
              "    <tr style=\"text-align: right;\">\n",
              "      <th></th>\n",
              "      <th>id</th>\n",
              "      <th>uid</th>\n",
              "      <th>task</th>\n",
              "      <th>tags</th>\n",
              "      <th>status</th>\n",
              "      <th>uid</th>\n",
              "      <th>name</th>\n",
              "    </tr>\n",
              "  </thead>\n",
              "  <tbody>\n",
              "    <tr>\n",
              "      <th>0</th>\n",
              "      <td>1</td>\n",
              "      <td>2</td>\n",
              "      <td>task1</td>\n",
              "      <td>homework</td>\n",
              "      <td>done</td>\n",
              "      <td>2</td>\n",
              "      <td>INSERT user1</td>\n",
              "    </tr>\n",
              "    <tr>\n",
              "      <th>1</th>\n",
              "      <td>1</td>\n",
              "      <td>2</td>\n",
              "      <td>task1</td>\n",
              "      <td>homework</td>\n",
              "      <td>done</td>\n",
              "      <td>5</td>\n",
              "      <td>INSERT user2</td>\n",
              "    </tr>\n",
              "    <tr>\n",
              "      <th>2</th>\n",
              "      <td>3</td>\n",
              "      <td>5</td>\n",
              "      <td>task2</td>\n",
              "      <td>groceries</td>\n",
              "      <td>done</td>\n",
              "      <td>2</td>\n",
              "      <td>INSERT user1</td>\n",
              "    </tr>\n",
              "    <tr>\n",
              "      <th>3</th>\n",
              "      <td>3</td>\n",
              "      <td>5</td>\n",
              "      <td>task2</td>\n",
              "      <td>groceries</td>\n",
              "      <td>done</td>\n",
              "      <td>5</td>\n",
              "      <td>INSERT user2</td>\n",
              "    </tr>\n",
              "    <tr>\n",
              "      <th>4</th>\n",
              "      <td>4</td>\n",
              "      <td>7</td>\n",
              "      <td>task3</td>\n",
              "      <td>groceries</td>\n",
              "      <td>notdone</td>\n",
              "      <td>2</td>\n",
              "      <td>INSERT user1</td>\n",
              "    </tr>\n",
              "    <tr>\n",
              "      <th>5</th>\n",
              "      <td>4</td>\n",
              "      <td>7</td>\n",
              "      <td>task3</td>\n",
              "      <td>groceries</td>\n",
              "      <td>notdone</td>\n",
              "      <td>5</td>\n",
              "      <td>INSERT user2</td>\n",
              "    </tr>\n",
              "  </tbody>\n",
              "</table>\n",
              "</div>"
            ],
            "text/plain": [
              "   id  uid   task       tags   status  uid          name\n",
              "0   1    2  task1   homework     done    2  INSERT user1\n",
              "1   1    2  task1   homework     done    5  INSERT user2\n",
              "2   3    5  task2  groceries     done    2  INSERT user1\n",
              "3   3    5  task2  groceries     done    5  INSERT user2\n",
              "4   4    7  task3  groceries  notdone    2  INSERT user1\n",
              "5   4    7  task3  groceries  notdone    5  INSERT user2"
            ]
          },
          "metadata": {
            "tags": []
          },
          "execution_count": 14
        }
      ]
    },
    {
      "cell_type": "code",
      "metadata": {
        "id": "2UdkXMXlVZCS",
        "outputId": "df3f68a6-8b9a-4da6-8da0-e01b201a1c19",
        "colab": {
          "base_uri": "https://localhost:8080/",
          "height": 225
        }
      },
      "source": [
        "sql= 'SELECT * from todos CROSS JOIN users'\n",
        "pd.read_sql(sql, conn)"
      ],
      "execution_count": 15,
      "outputs": [
        {
          "output_type": "execute_result",
          "data": {
            "text/html": [
              "<div>\n",
              "<style scoped>\n",
              "    .dataframe tbody tr th:only-of-type {\n",
              "        vertical-align: middle;\n",
              "    }\n",
              "\n",
              "    .dataframe tbody tr th {\n",
              "        vertical-align: top;\n",
              "    }\n",
              "\n",
              "    .dataframe thead th {\n",
              "        text-align: right;\n",
              "    }\n",
              "</style>\n",
              "<table border=\"1\" class=\"dataframe\">\n",
              "  <thead>\n",
              "    <tr style=\"text-align: right;\">\n",
              "      <th></th>\n",
              "      <th>id</th>\n",
              "      <th>uid</th>\n",
              "      <th>task</th>\n",
              "      <th>tags</th>\n",
              "      <th>status</th>\n",
              "      <th>uid</th>\n",
              "      <th>name</th>\n",
              "    </tr>\n",
              "  </thead>\n",
              "  <tbody>\n",
              "    <tr>\n",
              "      <th>0</th>\n",
              "      <td>1</td>\n",
              "      <td>2</td>\n",
              "      <td>task1</td>\n",
              "      <td>homework</td>\n",
              "      <td>done</td>\n",
              "      <td>2</td>\n",
              "      <td>INSERT user1</td>\n",
              "    </tr>\n",
              "    <tr>\n",
              "      <th>1</th>\n",
              "      <td>1</td>\n",
              "      <td>2</td>\n",
              "      <td>task1</td>\n",
              "      <td>homework</td>\n",
              "      <td>done</td>\n",
              "      <td>5</td>\n",
              "      <td>INSERT user2</td>\n",
              "    </tr>\n",
              "    <tr>\n",
              "      <th>2</th>\n",
              "      <td>3</td>\n",
              "      <td>5</td>\n",
              "      <td>task2</td>\n",
              "      <td>groceries</td>\n",
              "      <td>done</td>\n",
              "      <td>2</td>\n",
              "      <td>INSERT user1</td>\n",
              "    </tr>\n",
              "    <tr>\n",
              "      <th>3</th>\n",
              "      <td>3</td>\n",
              "      <td>5</td>\n",
              "      <td>task2</td>\n",
              "      <td>groceries</td>\n",
              "      <td>done</td>\n",
              "      <td>5</td>\n",
              "      <td>INSERT user2</td>\n",
              "    </tr>\n",
              "    <tr>\n",
              "      <th>4</th>\n",
              "      <td>4</td>\n",
              "      <td>7</td>\n",
              "      <td>task3</td>\n",
              "      <td>groceries</td>\n",
              "      <td>notdone</td>\n",
              "      <td>2</td>\n",
              "      <td>INSERT user1</td>\n",
              "    </tr>\n",
              "    <tr>\n",
              "      <th>5</th>\n",
              "      <td>4</td>\n",
              "      <td>7</td>\n",
              "      <td>task3</td>\n",
              "      <td>groceries</td>\n",
              "      <td>notdone</td>\n",
              "      <td>5</td>\n",
              "      <td>INSERT user2</td>\n",
              "    </tr>\n",
              "  </tbody>\n",
              "</table>\n",
              "</div>"
            ],
            "text/plain": [
              "   id  uid   task       tags   status  uid          name\n",
              "0   1    2  task1   homework     done    2  INSERT user1\n",
              "1   1    2  task1   homework     done    5  INSERT user2\n",
              "2   3    5  task2  groceries     done    2  INSERT user1\n",
              "3   3    5  task2  groceries     done    5  INSERT user2\n",
              "4   4    7  task3  groceries  notdone    2  INSERT user1\n",
              "5   4    7  task3  groceries  notdone    5  INSERT user2"
            ]
          },
          "metadata": {
            "tags": []
          },
          "execution_count": 15
        }
      ]
    },
    {
      "cell_type": "code",
      "metadata": {
        "id": "CPy1PFQlPhnx",
        "outputId": "dd9477f4-71cf-4662-ce9f-b14a3747f820",
        "colab": {
          "base_uri": "https://localhost:8080/",
          "height": 106
        }
      },
      "source": [
        "sql= 'SELECT * from todos CROSS JOIN users where todos.uid=users.uid'\n",
        "pd.read_sql(sql, conn)"
      ],
      "execution_count": 16,
      "outputs": [
        {
          "output_type": "execute_result",
          "data": {
            "text/html": [
              "<div>\n",
              "<style scoped>\n",
              "    .dataframe tbody tr th:only-of-type {\n",
              "        vertical-align: middle;\n",
              "    }\n",
              "\n",
              "    .dataframe tbody tr th {\n",
              "        vertical-align: top;\n",
              "    }\n",
              "\n",
              "    .dataframe thead th {\n",
              "        text-align: right;\n",
              "    }\n",
              "</style>\n",
              "<table border=\"1\" class=\"dataframe\">\n",
              "  <thead>\n",
              "    <tr style=\"text-align: right;\">\n",
              "      <th></th>\n",
              "      <th>id</th>\n",
              "      <th>uid</th>\n",
              "      <th>task</th>\n",
              "      <th>tags</th>\n",
              "      <th>status</th>\n",
              "      <th>uid</th>\n",
              "      <th>name</th>\n",
              "    </tr>\n",
              "  </thead>\n",
              "  <tbody>\n",
              "    <tr>\n",
              "      <th>0</th>\n",
              "      <td>1</td>\n",
              "      <td>2</td>\n",
              "      <td>task1</td>\n",
              "      <td>homework</td>\n",
              "      <td>done</td>\n",
              "      <td>2</td>\n",
              "      <td>INSERT user1</td>\n",
              "    </tr>\n",
              "    <tr>\n",
              "      <th>1</th>\n",
              "      <td>3</td>\n",
              "      <td>5</td>\n",
              "      <td>task2</td>\n",
              "      <td>groceries</td>\n",
              "      <td>done</td>\n",
              "      <td>5</td>\n",
              "      <td>INSERT user2</td>\n",
              "    </tr>\n",
              "  </tbody>\n",
              "</table>\n",
              "</div>"
            ],
            "text/plain": [
              "   id  uid   task       tags status  uid          name\n",
              "0   1    2  task1   homework   done    2  INSERT user1\n",
              "1   3    5  task2  groceries   done    5  INSERT user2"
            ]
          },
          "metadata": {
            "tags": []
          },
          "execution_count": 16
        }
      ]
    },
    {
      "cell_type": "code",
      "metadata": {
        "id": "lL1HCNy9RFg7",
        "outputId": "473bbd02-1b97-432b-e5c4-8536d08d2519",
        "colab": {
          "base_uri": "https://localhost:8080/",
          "height": 136
        }
      },
      "source": [
        "import pandas as pd\n",
        "sql= 'SELECT * from todos LEFT JOIN users ON todos.uid=users.uid'\n",
        "pd.read_sql(sql, conn)"
      ],
      "execution_count": 17,
      "outputs": [
        {
          "output_type": "execute_result",
          "data": {
            "text/html": [
              "<div>\n",
              "<style scoped>\n",
              "    .dataframe tbody tr th:only-of-type {\n",
              "        vertical-align: middle;\n",
              "    }\n",
              "\n",
              "    .dataframe tbody tr th {\n",
              "        vertical-align: top;\n",
              "    }\n",
              "\n",
              "    .dataframe thead th {\n",
              "        text-align: right;\n",
              "    }\n",
              "</style>\n",
              "<table border=\"1\" class=\"dataframe\">\n",
              "  <thead>\n",
              "    <tr style=\"text-align: right;\">\n",
              "      <th></th>\n",
              "      <th>id</th>\n",
              "      <th>uid</th>\n",
              "      <th>task</th>\n",
              "      <th>tags</th>\n",
              "      <th>status</th>\n",
              "      <th>uid</th>\n",
              "      <th>name</th>\n",
              "    </tr>\n",
              "  </thead>\n",
              "  <tbody>\n",
              "    <tr>\n",
              "      <th>0</th>\n",
              "      <td>1</td>\n",
              "      <td>2</td>\n",
              "      <td>task1</td>\n",
              "      <td>homework</td>\n",
              "      <td>done</td>\n",
              "      <td>2.0</td>\n",
              "      <td>INSERT user1</td>\n",
              "    </tr>\n",
              "    <tr>\n",
              "      <th>1</th>\n",
              "      <td>3</td>\n",
              "      <td>5</td>\n",
              "      <td>task2</td>\n",
              "      <td>groceries</td>\n",
              "      <td>done</td>\n",
              "      <td>5.0</td>\n",
              "      <td>INSERT user2</td>\n",
              "    </tr>\n",
              "    <tr>\n",
              "      <th>2</th>\n",
              "      <td>4</td>\n",
              "      <td>7</td>\n",
              "      <td>task3</td>\n",
              "      <td>groceries</td>\n",
              "      <td>notdone</td>\n",
              "      <td>NaN</td>\n",
              "      <td>None</td>\n",
              "    </tr>\n",
              "  </tbody>\n",
              "</table>\n",
              "</div>"
            ],
            "text/plain": [
              "   id  uid   task       tags   status  uid          name\n",
              "0   1    2  task1   homework     done  2.0  INSERT user1\n",
              "1   3    5  task2  groceries     done  5.0  INSERT user2\n",
              "2   4    7  task3  groceries  notdone  NaN          None"
            ]
          },
          "metadata": {
            "tags": []
          },
          "execution_count": 17
        }
      ]
    },
    {
      "cell_type": "markdown",
      "metadata": {
        "id": "7g5wDAmAkeOr"
      },
      "source": [
        "Reference:-\n",
        "(1) Question is taken from the source:https://github.com/IoannaTalasli/databases"
      ]
    }
  ]
}