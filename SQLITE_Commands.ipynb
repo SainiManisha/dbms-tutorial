{
  "nbformat": 4,
  "nbformat_minor": 0,
  "metadata": {
    "colab": {
      "name": "SQLITE_Commands.ipynb",
      "provenance": [],
      "collapsed_sections": [],
      "authorship_tag": "ABX9TyPsQx0sAAa0PV4JH0g0n2kI",
      "include_colab_link": true
    },
    "kernelspec": {
      "name": "python3",
      "display_name": "Python 3"
    }
  },
  "cells": [
    {
      "cell_type": "markdown",
      "metadata": {
        "id": "view-in-github",
        "colab_type": "text"
      },
      "source": [
        "<a href=\"https://colab.research.google.com/github/SainiManisha/dbms-tutorial/blob/master/SQLITE_Commands.ipynb\" target=\"_parent\"><img src=\"https://colab.research.google.com/assets/colab-badge.svg\" alt=\"Open In Colab\"/></a>"
      ]
    },
    {
      "cell_type": "code",
      "metadata": {
        "id": "8RVlZTuw4qXV",
        "colab_type": "code",
        "colab": {}
      },
      "source": [
        "import sqlite3"
      ],
      "execution_count": 1,
      "outputs": []
    },
    {
      "cell_type": "code",
      "metadata": {
        "id": "sTkSfdU94ynm",
        "colab_type": "code",
        "colab": {}
      },
      "source": [
        "conn=sqlite3.connect('exy2.db')"
      ],
      "execution_count": 2,
      "outputs": []
    },
    {
      "cell_type": "code",
      "metadata": {
        "id": "FrZbGV9H5QFM",
        "colab_type": "code",
        "colab": {
          "base_uri": "https://localhost:8080/",
          "height": 34
        },
        "outputId": "52210b2f-65f0-46b0-8a44-c5dfe1bfc21f"
      },
      "source": [
        "conn.execute('''CREATE TABLE IF NOT EXISTS todo( \n",
        "                         id INTEGER PRIMARY KEY, \n",
        "                         task text not null\n",
        "                         )''')"
      ],
      "execution_count": 3,
      "outputs": [
        {
          "output_type": "execute_result",
          "data": {
            "text/plain": [
              "<sqlite3.Cursor at 0x7f4e4ced3810>"
            ]
          },
          "metadata": {
            "tags": []
          },
          "execution_count": 3
        }
      ]
    },
    {
      "cell_type": "code",
      "metadata": {
        "id": "ihRx7PBN40mr",
        "colab_type": "code",
        "colab": {}
      },
      "source": [
        "def insertdata(task):\n",
        "    query=\"Insert into todo(task) Values(?);\"\n",
        "    conn.execute(query,(task,))\n",
        "    conn.commit()"
      ],
      "execution_count": 4,
      "outputs": []
    },
    {
      "cell_type": "code",
      "metadata": {
        "id": "pMWPsIUY5IAj",
        "colab_type": "code",
        "colab": {}
      },
      "source": [
        "insertdata(\"Have break\")"
      ],
      "execution_count": 5,
      "outputs": []
    },
    {
      "cell_type": "code",
      "metadata": {
        "id": "yk6zm4zJ57TS",
        "colab_type": "code",
        "colab": {
          "base_uri": "https://localhost:8080/",
          "height": 34
        },
        "outputId": "9802df5f-6eec-41fb-d0f9-ed00f005576a"
      },
      "source": [
        "for row in conn.execute('Select * from todo'):\n",
        "    print(row)"
      ],
      "execution_count": 6,
      "outputs": [
        {
          "output_type": "stream",
          "text": [
            "(1, 'Have break')\n"
          ],
          "name": "stdout"
        }
      ]
    },
    {
      "cell_type": "code",
      "metadata": {
        "id": "bPe4Ex3p6Kb5",
        "colab_type": "code",
        "colab": {}
      },
      "source": [
        "insertdata(\"Have break\")"
      ],
      "execution_count": 8,
      "outputs": []
    },
    {
      "cell_type": "code",
      "metadata": {
        "id": "bSskQQcm8DUA",
        "colab_type": "code",
        "colab": {}
      },
      "source": [
        "insertdata(\"Try \")"
      ],
      "execution_count": 9,
      "outputs": []
    },
    {
      "cell_type": "code",
      "metadata": {
        "id": "l4CRwCdW8Xb1",
        "colab_type": "code",
        "colab": {
          "base_uri": "https://localhost:8080/",
          "height": 84
        },
        "outputId": "ed0e0e96-c3cf-466d-a136-36368fcb0359"
      },
      "source": [
        "for row in conn.execute('Select * from todo'):\n",
        "    print(row)"
      ],
      "execution_count": 10,
      "outputs": [
        {
          "output_type": "stream",
          "text": [
            "(1, 'Have break')\n",
            "(2, 'Have break')\n",
            "(3, 'Have break')\n",
            "(4, 'Try ')\n"
          ],
          "name": "stdout"
        }
      ]
    },
    {
      "cell_type": "code",
      "metadata": {
        "id": "nhTbJHxk8Gov",
        "colab_type": "code",
        "colab": {}
      },
      "source": [
        "insertdata(\"Complete your homework \")"
      ],
      "execution_count": 11,
      "outputs": []
    },
    {
      "cell_type": "code",
      "metadata": {
        "id": "vRs6EPrV8dLe",
        "colab_type": "code",
        "colab": {
          "base_uri": "https://localhost:8080/",
          "height": 84
        },
        "outputId": "078947a5-a3c3-473c-863e-e07c3a9cc5bd"
      },
      "source": [
        "for row in conn.execute('Select * from todo'):\n",
        "    print(row)"
      ],
      "execution_count": 18,
      "outputs": [
        {
          "output_type": "stream",
          "text": [
            "(2, 'Go ahead')\n",
            "(3, 'Have break')\n",
            "(4, 'Try ')\n",
            "(5, 'Complete your homework ')\n"
          ],
          "name": "stdout"
        }
      ]
    },
    {
      "cell_type": "code",
      "metadata": {
        "id": "pv3rBWCr-mRO",
        "colab_type": "code",
        "colab": {}
      },
      "source": [
        ""
      ],
      "execution_count": null,
      "outputs": []
    },
    {
      "cell_type": "code",
      "metadata": {
        "id": "8ScQBubY6PBQ",
        "colab_type": "code",
        "colab": {}
      },
      "source": [
        "def deletebyid(taskid):\n",
        "    query=\"delete from todo WHERE id=?;\"\n",
        "    conn.execute(query,(taskid,))\n",
        "    conn.commit()"
      ],
      "execution_count": 12,
      "outputs": []
    },
    {
      "cell_type": "code",
      "metadata": {
        "id": "-lh_fpEe61ko",
        "colab_type": "code",
        "colab": {}
      },
      "source": [
        "deletebyid(1)"
      ],
      "execution_count": 13,
      "outputs": []
    },
    {
      "cell_type": "code",
      "metadata": {
        "id": "fSZ0USTH7B0n",
        "colab_type": "code",
        "colab": {
          "base_uri": "https://localhost:8080/",
          "height": 84
        },
        "outputId": "a24e055d-50cc-4ec5-d106-c13d33c4c192"
      },
      "source": [
        "for row in conn.execute('Select * from todo'):\n",
        "    print(row)"
      ],
      "execution_count": 14,
      "outputs": [
        {
          "output_type": "stream",
          "text": [
            "(2, 'Have break')\n",
            "(3, 'Have break')\n",
            "(4, 'Try ')\n",
            "(5, 'Complete your homework ')\n"
          ],
          "name": "stdout"
        }
      ]
    },
    {
      "cell_type": "code",
      "metadata": {
        "id": "_K8T42T873e3",
        "colab_type": "code",
        "colab": {}
      },
      "source": [
        ""
      ],
      "execution_count": null,
      "outputs": []
    },
    {
      "cell_type": "code",
      "metadata": {
        "id": "-9TMkpXw7F2W",
        "colab_type": "code",
        "colab": {}
      },
      "source": [
        "def updatedata(taskid, newtask):\n",
        "    query=\"UPDATE todo set task= ? WHERE id= ?;\"\n",
        "    conn.execute(query,(newtask, taskid,))\n",
        "    conn.commit()"
      ],
      "execution_count": 15,
      "outputs": []
    },
    {
      "cell_type": "code",
      "metadata": {
        "id": "k7foyFEk7iJD",
        "colab_type": "code",
        "colab": {}
      },
      "source": [
        "updatedata(2, \"Go ahead\")"
      ],
      "execution_count": 16,
      "outputs": []
    },
    {
      "cell_type": "code",
      "metadata": {
        "id": "Z_nLoJnR75DQ",
        "colab_type": "code",
        "colab": {
          "base_uri": "https://localhost:8080/",
          "height": 84
        },
        "outputId": "e71e7f9e-c68c-42db-b03e-a63ef3049fc2"
      },
      "source": [
        "for row in conn.execute('Select * from todo'):\n",
        "    print(row)"
      ],
      "execution_count": 17,
      "outputs": [
        {
          "output_type": "stream",
          "text": [
            "(2, 'Go ahead')\n",
            "(3, 'Have break')\n",
            "(4, 'Try ')\n",
            "(5, 'Complete your homework ')\n"
          ],
          "name": "stdout"
        }
      ]
    },
    {
      "cell_type": "code",
      "metadata": {
        "id": "5jUj8K4f_NVs",
        "colab_type": "code",
        "colab": {}
      },
      "source": [
        ""
      ],
      "execution_count": null,
      "outputs": []
    }
  ]
}