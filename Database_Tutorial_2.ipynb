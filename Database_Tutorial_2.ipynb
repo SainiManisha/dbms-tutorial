{
  "nbformat": 4,
  "nbformat_minor": 0,
  "metadata": {
    "colab": {
      "name": "Database_Tutorial_2",
      "provenance": [],
      "collapsed_sections": [],
      "authorship_tag": "ABX9TyMMcRw1nrZUNXCaiRG9YDhE",
      "include_colab_link": true
    },
    "kernelspec": {
      "name": "python3",
      "display_name": "Python 3"
    }
  },
  "cells": [
    {
      "cell_type": "markdown",
      "metadata": {
        "id": "view-in-github",
        "colab_type": "text"
      },
      "source": [
        "<a href=\"https://colab.research.google.com/github/SainiManisha/dbms-tutorial/blob/master/Database_Tutorial_2.ipynb\" target=\"_parent\"><img src=\"https://colab.research.google.com/assets/colab-badge.svg\" alt=\"Open In Colab\"/></a>"
      ]
    },
    {
      "cell_type": "code",
      "metadata": {
        "id": "3Cp09QiBbXoi",
        "colab_type": "code",
        "colab": {}
      },
      "source": [
        "import sqlite3\n",
        "conn = sqlite3.connect('example2_create.db')"
      ],
      "execution_count": null,
      "outputs": []
    },
    {
      "cell_type": "code",
      "metadata": {
        "id": "LHxCUCj3fxay",
        "colab_type": "code",
        "colab": {}
      },
      "source": [
        "c = conn.cursor()\n",
        "\n",
        "# Create table Stocks\n",
        "c.execute('''CREATE TABLE stocks\n",
        "             (date text, trans text, symbol text, qty real, price real)''')\n",
        "# Insert a row of data\n",
        "c.execute(\"INSERT INTO stocks VALUES ('2006-01-05','BUY','RHAT',100,35.14)\")\n",
        "\n",
        "# Save (commit) the changes\n",
        "conn.commit()\n",
        "\n",
        "# We can also close the connection if we are done with it.\n",
        "# Just be sure any changes have been committed or they will be lost.\n"
      ],
      "execution_count": null,
      "outputs": []
    },
    {
      "cell_type": "code",
      "metadata": {
        "id": "GHpb10iylbPy",
        "colab_type": "code",
        "colab": {
          "base_uri": "https://localhost:8080/",
          "height": 34
        },
        "outputId": "353b253f-a234-4fab-a9db-89f67943554f"
      },
      "source": [
        "c.execute(\"INSERT INTO stocks VALUES ('2006-01-07','BUY','kIA',100,30.14)\")"
      ],
      "execution_count": null,
      "outputs": [
        {
          "output_type": "execute_result",
          "data": {
            "text/plain": [
              "<sqlite3.Cursor at 0x7f59df9a6a40>"
            ]
          },
          "metadata": {
            "tags": []
          },
          "execution_count": 3
        }
      ]
    },
    {
      "cell_type": "code",
      "metadata": {
        "id": "E9Wy2HiMf6sh",
        "colab_type": "code",
        "colab": {
          "base_uri": "https://localhost:8080/",
          "height": 51
        },
        "outputId": "38e4481f-3ac9-48e5-df64-7cbe17438c54"
      },
      "source": [
        "# to select rows from the created table\n",
        "for row in c.execute('SELECT * FROM stocks ORDER BY price'):\n",
        "        print (row)\n"
      ],
      "execution_count": null,
      "outputs": [
        {
          "output_type": "stream",
          "text": [
            "('2006-01-07', 'BUY', 'kIA', 100.0, 30.14)\n",
            "('2006-01-05', 'BUY', 'RHAT', 100.0, 35.14)\n"
          ],
          "name": "stdout"
        }
      ]
    },
    {
      "cell_type": "code",
      "metadata": {
        "id": "DU-d0v9LkWRK",
        "colab_type": "code",
        "colab": {
          "base_uri": "https://localhost:8080/",
          "height": 51
        },
        "outputId": "05e903d6-0e16-4c8f-f110-7cdd618290e6"
      },
      "source": [
        "for row in c.execute('SELECT * FROM stocks'):\n",
        "    print (row)"
      ],
      "execution_count": null,
      "outputs": [
        {
          "output_type": "stream",
          "text": [
            "('2006-01-05', 'BUY', 'RHAT', 100.0, 35.14)\n",
            "('2006-01-07', 'BUY', 'kIA', 100.0, 30.14)\n"
          ],
          "name": "stdout"
        }
      ]
    },
    {
      "cell_type": "code",
      "metadata": {
        "id": "KhizzJ-JmZdT",
        "colab_type": "code",
        "colab": {}
      },
      "source": [
        "c.execute(\"INSERT INTO stocks VALUES ('2006-01-07','BUY','kIA',100,30.14)\")\n",
        "conn.commit()"
      ],
      "execution_count": null,
      "outputs": []
    },
    {
      "cell_type": "code",
      "metadata": {
        "id": "_S4Uejr4mfbU",
        "colab_type": "code",
        "colab": {
          "base_uri": "https://localhost:8080/",
          "height": 68
        },
        "outputId": "4b687af0-e6f4-4fc2-f3e2-289b89b12104"
      },
      "source": [
        "for row in c.execute('SELECT * FROM stocks'):\n",
        "    print (row)"
      ],
      "execution_count": null,
      "outputs": [
        {
          "output_type": "stream",
          "text": [
            "('2006-01-05', 'BUY', 'RHAT', 100.0, 35.14)\n",
            "('2006-01-07', 'BUY', 'kIA', 100.0, 30.14)\n",
            "('2006-01-07', 'BUY', 'kIA', 100.0, 30.14)\n"
          ],
          "name": "stdout"
        }
      ]
    },
    {
      "cell_type": "code",
      "metadata": {
        "id": "jedEf2t_m8Tq",
        "colab_type": "code",
        "colab": {}
      },
      "source": [
        ""
      ],
      "execution_count": null,
      "outputs": []
    }
  ]
}