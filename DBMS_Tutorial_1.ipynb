{
  "nbformat": 4,
  "nbformat_minor": 0,
  "metadata": {
    "colab": {
      "name": "DBMS_Tutorial_1.ipynb",
      "provenance": [],
      "authorship_tag": "ABX9TyOca/Et3MiGEzxyzt54HZXV",
      "include_colab_link": true
    },
    "kernelspec": {
      "name": "python3",
      "display_name": "Python 3"
    }
  },
  "cells": [
    {
      "cell_type": "markdown",
      "metadata": {
        "id": "view-in-github",
        "colab_type": "text"
      },
      "source": [
        "<a href=\"https://colab.research.google.com/github/SainiManisha/dbms-tutorial/blob/master/DBMS_Tutorial_1.ipynb\" target=\"_parent\"><img src=\"https://colab.research.google.com/assets/colab-badge.svg\" alt=\"Open In Colab\"/></a>"
      ]
    },
    {
      "cell_type": "code",
      "metadata": {
        "id": "efgfNIIEGDLe",
        "colab_type": "code",
        "colab": {}
      },
      "source": [
        "import sqlite3"
      ],
      "execution_count": 1,
      "outputs": []
    },
    {
      "cell_type": "code",
      "metadata": {
        "id": "ZFFwUOVMGIdc",
        "colab_type": "code",
        "colab": {}
      },
      "source": [
        "conn=sqlite3.connect('exy.db')"
      ],
      "execution_count": 2,
      "outputs": []
    },
    {
      "cell_type": "code",
      "metadata": {
        "id": "QG8OR88UGgvr",
        "colab_type": "code",
        "colab": {}
      },
      "source": [
        "c=conn.cursor()"
      ],
      "execution_count": 3,
      "outputs": []
    },
    {
      "cell_type": "code",
      "metadata": {
        "id": "MhxQFQCpGwW5",
        "colab_type": "code",
        "colab": {
          "base_uri": "https://localhost:8080/",
          "height": 34
        },
        "outputId": "d2764c41-4f83-4dc7-e721-3b9e10138b35"
      },
      "source": [
        "c.execute('''CREATE TABLE STOCK\n",
        "            (date text, trans text, qty real, price real)''')"
      ],
      "execution_count": 4,
      "outputs": [
        {
          "output_type": "execute_result",
          "data": {
            "text/plain": [
              "<sqlite3.Cursor at 0x7f544a11a960>"
            ]
          },
          "metadata": {
            "tags": []
          },
          "execution_count": 4
        }
      ]
    },
    {
      "cell_type": "code",
      "metadata": {
        "id": "JDt3iLsKIAvK",
        "colab_type": "code",
        "colab": {
          "base_uri": "https://localhost:8080/",
          "height": 34
        },
        "outputId": "b25f05e6-acd4-44e1-8b56-934b8c1ced14"
      },
      "source": [
        "c.execute(\"Insert into STOCK values ('2006-0-05','BUY','RHAT','35.10')\")"
      ],
      "execution_count": 12,
      "outputs": [
        {
          "output_type": "execute_result",
          "data": {
            "text/plain": [
              "<sqlite3.Cursor at 0x7f544a11a960>"
            ]
          },
          "metadata": {
            "tags": []
          },
          "execution_count": 12
        }
      ]
    },
    {
      "cell_type": "code",
      "metadata": {
        "id": "5PJxnoTWIAtz",
        "colab_type": "code",
        "colab": {
          "base_uri": "https://localhost:8080/",
          "height": 34
        },
        "outputId": "17a7a7dc-6486-4a35-8e47-78c363c90fd5"
      },
      "source": [
        "c.execute(\"Insert into stock VALUES('2009-0-89','BUY','RI','34.8')\")"
      ],
      "execution_count": 13,
      "outputs": [
        {
          "output_type": "execute_result",
          "data": {
            "text/plain": [
              "<sqlite3.Cursor at 0x7f544a11a960>"
            ]
          },
          "metadata": {
            "tags": []
          },
          "execution_count": 13
        }
      ]
    },
    {
      "cell_type": "code",
      "metadata": {
        "id": "TPbtpmxcIAsL",
        "colab_type": "code",
        "colab": {
          "base_uri": "https://localhost:8080/",
          "height": 51
        },
        "outputId": "38e1f704-6b75-4fae-9654-e7f058e3ce62"
      },
      "source": [
        "for row in c.execute('Select * from stock'):\n",
        "    print(row)"
      ],
      "execution_count": 16,
      "outputs": [
        {
          "output_type": "stream",
          "text": [
            "('2006-0-05', 'BUY', 'RHAT', 35.1)\n",
            "('2009-0-89', 'BUY', 'RI', 34.8)\n"
          ],
          "name": "stdout"
        }
      ]
    },
    {
      "cell_type": "code",
      "metadata": {
        "id": "Cp8Ih4jzIApW",
        "colab_type": "code",
        "colab": {
          "base_uri": "https://localhost:8080/",
          "height": 51
        },
        "outputId": "e7decdeb-84cb-4aef-d4b2-da64fc081d00"
      },
      "source": [
        "for row in c.execute('Select * from stock ORDER BY price'):\n",
        "    print(row)"
      ],
      "execution_count": 18,
      "outputs": [
        {
          "output_type": "stream",
          "text": [
            "('2009-0-89', 'BUY', 'RI', 34.8)\n",
            "('2006-0-05', 'BUY', 'RHAT', 35.1)\n"
          ],
          "name": "stdout"
        }
      ]
    },
    {
      "cell_type": "code",
      "metadata": {
        "id": "RQtwfuwMLTnl",
        "colab_type": "code",
        "colab": {}
      },
      "source": [
        "conn.commit()"
      ],
      "execution_count": 19,
      "outputs": []
    },
    {
      "cell_type": "code",
      "metadata": {
        "id": "NRUDQPp0LeKK",
        "colab_type": "code",
        "colab": {
          "base_uri": "https://localhost:8080/",
          "height": 34
        },
        "outputId": "6fe7c659-cb7d-418d-adaf-cda3232200d9"
      },
      "source": [
        "c.execute(\"Insert into STOCK VALUES ('2090','TRY','BI','32.98')\")"
      ],
      "execution_count": 21,
      "outputs": [
        {
          "output_type": "execute_result",
          "data": {
            "text/plain": [
              "<sqlite3.Cursor at 0x7f544a11a960>"
            ]
          },
          "metadata": {
            "tags": []
          },
          "execution_count": 21
        }
      ]
    },
    {
      "cell_type": "code",
      "metadata": {
        "id": "8lprxIOhMHkG",
        "colab_type": "code",
        "colab": {
          "base_uri": "https://localhost:8080/",
          "height": 34
        },
        "outputId": "ee7dc84a-5ba2-4c7f-8cea-ff0dae4189e2"
      },
      "source": [
        "c.execute(\"Insert into STOCK VALUES ('26790','TRY','BITYU','32')\")"
      ],
      "execution_count": 22,
      "outputs": [
        {
          "output_type": "execute_result",
          "data": {
            "text/plain": [
              "<sqlite3.Cursor at 0x7f544a11a960>"
            ]
          },
          "metadata": {
            "tags": []
          },
          "execution_count": 22
        }
      ]
    },
    {
      "cell_type": "code",
      "metadata": {
        "id": "QVoc7PeHMMa5",
        "colab_type": "code",
        "colab": {
          "base_uri": "https://localhost:8080/",
          "height": 85
        },
        "outputId": "b91329a3-4e0c-41c4-fb3a-41982707e459"
      },
      "source": [
        "for row in c.execute(\"Select * from STOCK\"):\n",
        "    print(row)"
      ],
      "execution_count": 23,
      "outputs": [
        {
          "output_type": "stream",
          "text": [
            "('2006-0-05', 'BUY', 'RHAT', 35.1)\n",
            "('2009-0-89', 'BUY', 'RI', 34.8)\n",
            "('2090', 'TRY', 'BI', 32.98)\n",
            "('26790', 'TRY', 'BITYU', 32.0)\n"
          ],
          "name": "stdout"
        }
      ]
    },
    {
      "cell_type": "code",
      "metadata": {
        "id": "57RBp6hYM10x",
        "colab_type": "code",
        "colab": {
          "base_uri": "https://localhost:8080/",
          "height": 85
        },
        "outputId": "9540761f-5d71-4440-abfb-fc5f5f65b4bd"
      },
      "source": [
        "for row in c.execute(\"Select * from STOCK order by price\"):\n",
        "    print(row)"
      ],
      "execution_count": 26,
      "outputs": [
        {
          "output_type": "stream",
          "text": [
            "('26790', 'TRY', 'BITYU', 32.0)\n",
            "('2090', 'TRY', 'BI', 32.98)\n",
            "('2009-0-89', 'BUY', 'RI', 34.8)\n",
            "('2006-0-05', 'BUY', 'RHAT', 35.1)\n"
          ],
          "name": "stdout"
        }
      ]
    }
  ]
}