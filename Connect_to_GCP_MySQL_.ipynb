{
  "nbformat": 4,
  "nbformat_minor": 0,
  "metadata": {
    "colab": {
      "name": "Connect to GCP - MySQL .ipynb",
      "provenance": [],
      "collapsed_sections": [],
      "authorship_tag": "ABX9TyNS0b4GVBJFa6UKwebiaXH1",
      "include_colab_link": true
    },
    "kernelspec": {
      "name": "python3",
      "display_name": "Python 3"
    }
  },
  "cells": [
    {
      "cell_type": "markdown",
      "metadata": {
        "id": "view-in-github",
        "colab_type": "text"
      },
      "source": [
        "<a href=\"https://colab.research.google.com/github/SainiManisha/dbms-tutorial/blob/master/Connect_to_GCP_MySQL_.ipynb\" target=\"_parent\"><img src=\"https://colab.research.google.com/assets/colab-badge.svg\" alt=\"Open In Colab\"/></a>"
      ]
    },
    {
      "cell_type": "code",
      "metadata": {
        "id": "7_8HUog6ilqg",
        "colab_type": "code",
        "colab": {
          "base_uri": "https://localhost:8080/",
          "height": 171
        },
        "outputId": "f653ba47-e9eb-489d-f42f-8e6cbd4f0de0"
      },
      "source": [
        "!pip install mysql-connector-python"
      ],
      "execution_count": 1,
      "outputs": [
        {
          "output_type": "stream",
          "text": [
            "Collecting mysql-connector-python\n",
            "\u001b[?25l  Downloading https://files.pythonhosted.org/packages/ce/1d/378f92f45fb98d7e033f6a94b0600b8ae496e67ba411b992f536784a3d0d/mysql_connector_python-8.0.21-cp36-cp36m-manylinux1_x86_64.whl (15.8MB)\n",
            "\u001b[K     |████████████████████████████████| 15.8MB 292kB/s \n",
            "\u001b[?25hRequirement already satisfied: protobuf>=3.0.0 in /usr/local/lib/python3.6/dist-packages (from mysql-connector-python) (3.12.4)\n",
            "Requirement already satisfied: six>=1.9 in /usr/local/lib/python3.6/dist-packages (from protobuf>=3.0.0->mysql-connector-python) (1.15.0)\n",
            "Requirement already satisfied: setuptools in /usr/local/lib/python3.6/dist-packages (from protobuf>=3.0.0->mysql-connector-python) (49.6.0)\n",
            "Installing collected packages: mysql-connector-python\n",
            "Successfully installed mysql-connector-python-8.0.21\n"
          ],
          "name": "stdout"
        }
      ]
    },
    {
      "cell_type": "code",
      "metadata": {
        "id": "4XM6gXrEiwWC",
        "colab_type": "code",
        "colab": {}
      },
      "source": [
        "import mysql.connector"
      ],
      "execution_count": 9,
      "outputs": []
    },
    {
      "cell_type": "code",
      "metadata": {
        "id": "254mvTzwjNgW",
        "colab_type": "code",
        "colab": {
          "base_uri": "https://localhost:8080/",
          "height": 34
        },
        "outputId": "fe11162c-1f13-4537-8045-4382fa61545d"
      },
      "source": [
        "conn = mysql.connector.connect(\n",
        "  host=\"34.93.147.110\",\n",
        "  user=\"root\",\n",
        "  password=\"123456789\",\n",
        "  port=3306,\n",
        "  database='manisha'\n",
        ")\n",
        "\n",
        "print(conn)"
      ],
      "execution_count": 10,
      "outputs": [
        {
          "output_type": "stream",
          "text": [
            "<mysql.connector.connection_cext.CMySQLConnection object at 0x7f50eff3cc50>\n"
          ],
          "name": "stdout"
        }
      ]
    },
    {
      "cell_type": "code",
      "metadata": {
        "id": "JyuFK0Y1jkgi",
        "colab_type": "code",
        "colab": {}
      },
      "source": [
        "cur = conn.cursor()"
      ],
      "execution_count": 11,
      "outputs": []
    },
    {
      "cell_type": "code",
      "metadata": {
        "id": "CDFpys1CmhP1",
        "colab_type": "code",
        "colab": {}
      },
      "source": [
        "import pandas as pd"
      ],
      "execution_count": 12,
      "outputs": []
    },
    {
      "cell_type": "code",
      "metadata": {
        "id": "Dx7h6j3TmuLE",
        "colab_type": "code",
        "colab": {}
      },
      "source": [
        "cur.execute(\"\"\"Create table trycommands\n",
        "        (id int(10) Primary key, name text)\"\"\")"
      ],
      "execution_count": 15,
      "outputs": []
    },
    {
      "cell_type": "code",
      "metadata": {
        "id": "Xymmc5TXrtdd",
        "colab_type": "code",
        "colab": {}
      },
      "source": [
        "query = \"\"\"INSERT INTO trycommands (id, name) VALUES\n",
        "            (1, \"Student A\"),\n",
        "            (2, \"Student B\")\"\"\"\n",
        "cur.execute(query)"
      ],
      "execution_count": 16,
      "outputs": []
    },
    {
      "cell_type": "code",
      "metadata": {
        "id": "1p0mJlNhsGho",
        "colab_type": "code",
        "colab": {
          "base_uri": "https://localhost:8080/",
          "height": 106
        },
        "outputId": "f9d3c37a-3f61-4d91-cd1a-1143432365be"
      },
      "source": [
        "pd.read_sql(\"SELECT * FROM trycommands\", conn)"
      ],
      "execution_count": 17,
      "outputs": [
        {
          "output_type": "execute_result",
          "data": {
            "text/html": [
              "<div>\n",
              "<style scoped>\n",
              "    .dataframe tbody tr th:only-of-type {\n",
              "        vertical-align: middle;\n",
              "    }\n",
              "\n",
              "    .dataframe tbody tr th {\n",
              "        vertical-align: top;\n",
              "    }\n",
              "\n",
              "    .dataframe thead th {\n",
              "        text-align: right;\n",
              "    }\n",
              "</style>\n",
              "<table border=\"1\" class=\"dataframe\">\n",
              "  <thead>\n",
              "    <tr style=\"text-align: right;\">\n",
              "      <th></th>\n",
              "      <th>id</th>\n",
              "      <th>name</th>\n",
              "    </tr>\n",
              "  </thead>\n",
              "  <tbody>\n",
              "    <tr>\n",
              "      <th>0</th>\n",
              "      <td>1</td>\n",
              "      <td>Student A</td>\n",
              "    </tr>\n",
              "    <tr>\n",
              "      <th>1</th>\n",
              "      <td>2</td>\n",
              "      <td>Student B</td>\n",
              "    </tr>\n",
              "  </tbody>\n",
              "</table>\n",
              "</div>"
            ],
            "text/plain": [
              "   id       name\n",
              "0   1  Student A\n",
              "1   2  Student B"
            ]
          },
          "metadata": {
            "tags": []
          },
          "execution_count": 17
        }
      ]
    },
    {
      "cell_type": "code",
      "metadata": {
        "id": "6lAgtmHrsS1u",
        "colab_type": "code",
        "colab": {}
      },
      "source": [
        "query = \"\"\"INSERT INTO trycommands (id, name) VALUES\n",
        "(3, \"Student C\"),\n",
        "(4, \"Student D\")\"\"\"\n",
        "cur.execute(query)"
      ],
      "execution_count": 18,
      "outputs": []
    },
    {
      "cell_type": "code",
      "metadata": {
        "id": "5b7tbvJysXOg",
        "colab_type": "code",
        "colab": {
          "base_uri": "https://localhost:8080/",
          "height": 166
        },
        "outputId": "1213112c-009d-4582-97ec-710e1df69b45"
      },
      "source": [
        "pd.read_sql(\"SELECT * FROM trycommands\", conn)"
      ],
      "execution_count": 19,
      "outputs": [
        {
          "output_type": "execute_result",
          "data": {
            "text/html": [
              "<div>\n",
              "<style scoped>\n",
              "    .dataframe tbody tr th:only-of-type {\n",
              "        vertical-align: middle;\n",
              "    }\n",
              "\n",
              "    .dataframe tbody tr th {\n",
              "        vertical-align: top;\n",
              "    }\n",
              "\n",
              "    .dataframe thead th {\n",
              "        text-align: right;\n",
              "    }\n",
              "</style>\n",
              "<table border=\"1\" class=\"dataframe\">\n",
              "  <thead>\n",
              "    <tr style=\"text-align: right;\">\n",
              "      <th></th>\n",
              "      <th>id</th>\n",
              "      <th>name</th>\n",
              "    </tr>\n",
              "  </thead>\n",
              "  <tbody>\n",
              "    <tr>\n",
              "      <th>0</th>\n",
              "      <td>1</td>\n",
              "      <td>Student A</td>\n",
              "    </tr>\n",
              "    <tr>\n",
              "      <th>1</th>\n",
              "      <td>2</td>\n",
              "      <td>Student B</td>\n",
              "    </tr>\n",
              "    <tr>\n",
              "      <th>2</th>\n",
              "      <td>3</td>\n",
              "      <td>Student C</td>\n",
              "    </tr>\n",
              "    <tr>\n",
              "      <th>3</th>\n",
              "      <td>4</td>\n",
              "      <td>Student D</td>\n",
              "    </tr>\n",
              "  </tbody>\n",
              "</table>\n",
              "</div>"
            ],
            "text/plain": [
              "   id       name\n",
              "0   1  Student A\n",
              "1   2  Student B\n",
              "2   3  Student C\n",
              "3   4  Student D"
            ]
          },
          "metadata": {
            "tags": []
          },
          "execution_count": 19
        }
      ]
    },
    {
      "cell_type": "code",
      "metadata": {
        "id": "vnW07jz4sY1i",
        "colab_type": "code",
        "colab": {}
      },
      "source": [
        "cur.execute(\"DROP TABLE trycommands\")"
      ],
      "execution_count": 20,
      "outputs": []
    }
  ]
}