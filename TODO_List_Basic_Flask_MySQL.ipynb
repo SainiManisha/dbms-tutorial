{
  "nbformat": 4,
  "nbformat_minor": 0,
  "metadata": {
    "colab": {
      "name": "TODO List Basic Flask MySQL.ipynb",
      "provenance": [],
      "collapsed_sections": [],
      "authorship_tag": "ABX9TyOJupEZeRTbunVPWLuNq7+j",
      "include_colab_link": true
    },
    "kernelspec": {
      "name": "python3",
      "display_name": "Python 3"
    }
  },
  "cells": [
    {
      "cell_type": "markdown",
      "metadata": {
        "id": "view-in-github",
        "colab_type": "text"
      },
      "source": [
        "<a href=\"https://colab.research.google.com/github/SainiManisha/dbms-tutorial/blob/master/TODO_List_Basic_Flask_MySQL.ipynb\" target=\"_parent\"><img src=\"https://colab.research.google.com/assets/colab-badge.svg\" alt=\"Open In Colab\"/></a>"
      ]
    },
    {
      "cell_type": "code",
      "metadata": {
        "id": "8ppGbFGCKNJH"
      },
      "source": [
        "!pip install Flask flask-ngrok mysql-connector"
      ],
      "execution_count": null,
      "outputs": []
    },
    {
      "cell_type": "code",
      "metadata": {
        "id": "cTjYlawCOfBz"
      },
      "source": [
        "import mysql.connector\n",
        "import pandas as pd\n",
        "from flask import Flask, request\n",
        "from flask_ngrok import run_with_ngrok"
      ],
      "execution_count": 1,
      "outputs": []
    },
    {
      "cell_type": "code",
      "metadata": {
        "id": "2C9a5k3BMilA"
      },
      "source": [
        "conn = mysql.connector.connect(\n",
        "    host=\"34.93.147.110\",\n",
        "    user=\"root\",\n",
        "    password=\"123456789\",\n",
        "    port=3306,\n",
        "    database='webapp'\n",
        ")\n",
        "cur = conn.cursor()"
      ],
      "execution_count": 2,
      "outputs": []
    },
    {
      "cell_type": "code",
      "metadata": {
        "id": "_uaJOlFJMsPz"
      },
      "source": [
        "query1 = \"\"\"DROP TABLE IF EXISTS todo;\"\"\"\n",
        "query2 = \"\"\"\n",
        "    CREATE TABLE todo (\n",
        "        id INT(10) AUTO_INCREMENT, \n",
        "        name TEXT NOT NULL,\n",
        "        email VARCHAR(50),\n",
        "        task TEXT,\n",
        "        tag TEXT,\n",
        "        status VARCHAR(10) DEFAULT 'notdone',\n",
        "        CHECK(status IN ('done', 'notdone')),\n",
        "        PRIMARY KEY(id)\n",
        "    )\n",
        "\"\"\"\n",
        "cur.execute(query1)\n",
        "conn.commit()\n",
        "\n",
        "cur.execute(query2)\n",
        "conn.commit()"
      ],
      "execution_count": 3,
      "outputs": []
    },
    {
      "cell_type": "code",
      "metadata": {
        "id": "JVoJTOiBPBya"
      },
      "source": [
        "def insert(name, email, task, tag, done=False):\n",
        "    status = 'done' if done else 'notdone'\n",
        "    query = \"\"\"\n",
        "        INSERT INTO todo (name, email, task, tag, status) \n",
        "        VALUES (%s, %s, %s, %s, %s)\"\"\"\n",
        "    cur.execute(query, (name, email, task, tag, status))\n",
        "    conn.commit()"
      ],
      "execution_count": 4,
      "outputs": []
    },
    {
      "cell_type": "code",
      "metadata": {
        "id": "LZUYnvI4RxGu"
      },
      "source": [
        "insert(\"Manisha\", \"hi@bye.com\", \"Buy groceries\", \"home\", done=False)\n",
        "insert(\"Manisha\", \"hi@bye.com\", \"New shoes\", \"home\", done=True)"
      ],
      "execution_count": 5,
      "outputs": []
    },
    {
      "cell_type": "code",
      "metadata": {
        "id": "WMue3fN1V3mF"
      },
      "source": [
        "app = Flask(__name__)\n",
        "run_with_ngrok(app)"
      ],
      "execution_count": 16,
      "outputs": []
    },
    {
      "cell_type": "code",
      "metadata": {
        "id": "ITmknhF1WLPw"
      },
      "source": [
        "@app.route('/')\n",
        "def show():\n",
        "    query = \"\"\"\n",
        "        SELECT * FROM todo;\"\"\"\n",
        "    df = pd.read_sql(query, conn)\n",
        "    return \"\"\"<h1> My ToDo List</h1>\"\"\" + \n",
        "    df.to_html() + \n",
        "    \"\"\"<a href=\"/form\">Add to List</a>\"\"\""
      ],
      "execution_count": 17,
      "outputs": []
    },
    {
      "cell_type": "code",
      "metadata": {
        "id": "QqRu08RiXjjJ"
      },
      "source": [
        "@app.route('/form')\n",
        "def form():\n",
        "    html = \"\"\"\n",
        "    <form action='/submit' method='POST'>\n",
        "        <input type='text' placeholder='name' name='name'> <br>\n",
        "        <input type='email' placeholder='email' name='email'> <br>\n",
        "        <input type='text' placeholder='task' name='task'> <br>\n",
        "        <input type='text' placeholder='tag' name='tag'> <br>\n",
        "        <input type=\"radio\" name=\"status\" value=\"done\" id=\"done\">\n",
        "        <label for=\"done\">Done</label><br>\n",
        "        <input type=\"radio\" name=\"status\" value=\"not done\" id=\"notdone\">\n",
        "        <label for=\"notdone\">Not done</label><br>\n",
        "        <input type='submit'>\n",
        "    </form>\n",
        "    \"\"\"\n",
        "    return html"
      ],
      "execution_count": 18,
      "outputs": []
    },
    {
      "cell_type": "code",
      "metadata": {
        "id": "XW8xIWObaOZ5"
      },
      "source": [
        "@app.route('/submit', methods=['POST'])\n",
        "def submit():\n",
        "    name = request.form['name']\n",
        "    email = request.form['email']\n",
        "    task = request.form['task']\n",
        "    tag = request.form['tag']\n",
        "    done = True if request.form['status'] == 'done' else False\n",
        "\n",
        "    insert(name, email, task, tag, done)\n",
        "    return \"\"\"Thank you for your todo list addition.<br>\n",
        "            <a href='/'>Show my TODO list</a>\"\"\""
      ],
      "execution_count": 19,
      "outputs": []
    },
    {
      "cell_type": "code",
      "metadata": {
        "id": "cPzkk1viWWF7",
        "outputId": "66a75a06-8b2b-46d3-83fd-51a7d1f1be79",
        "colab": {
          "base_uri": "https://localhost:8080/",
          "height": 255
        }
      },
      "source": [
        "app.run()"
      ],
      "execution_count": null,
      "outputs": [
        {
          "output_type": "stream",
          "text": [
            " * Serving Flask app \"__main__\" (lazy loading)\n",
            " * Environment: production\n",
            "\u001b[31m   WARNING: This is a development server. Do not use it in a production deployment.\u001b[0m\n",
            "\u001b[2m   Use a production WSGI server instead.\u001b[0m\n",
            " * Debug mode: off\n"
          ],
          "name": "stdout"
        },
        {
          "output_type": "stream",
          "text": [
            " * Running on http://127.0.0.1:5000/ (Press CTRL+C to quit)\n"
          ],
          "name": "stderr"
        },
        {
          "output_type": "stream",
          "text": [
            " * Running on http://623e3ee0c71e.ngrok.io\n",
            " * Traffic stats available on http://127.0.0.1:4040\n"
          ],
          "name": "stdout"
        },
        {
          "output_type": "stream",
          "text": [
            "127.0.0.1 - - [21/Oct/2020 09:16:53] \"\u001b[37mGET / HTTP/1.1\u001b[0m\" 200 -\n",
            "127.0.0.1 - - [21/Oct/2020 09:16:54] \"\u001b[33mGET /favicon.ico HTTP/1.1\u001b[0m\" 404 -\n",
            "127.0.0.1 - - [21/Oct/2020 09:16:55] \"\u001b[37mGET /form HTTP/1.1\u001b[0m\" 200 -\n",
            "127.0.0.1 - - [21/Oct/2020 09:17:06] \"\u001b[37mPOST /submit HTTP/1.1\u001b[0m\" 200 -\n",
            "127.0.0.1 - - [21/Oct/2020 09:17:10] \"\u001b[37mGET / HTTP/1.1\u001b[0m\" 200 -\n",
            "127.0.0.1 - - [21/Oct/2020 09:20:44] \"\u001b[37mGET /form HTTP/1.1\u001b[0m\" 200 -\n"
          ],
          "name": "stderr"
        }
      ]
    },
    {
      "cell_type": "code",
      "metadata": {
        "id": "i4joSpjeXSFw"
      },
      "source": [
        ""
      ],
      "execution_count": 10,
      "outputs": []
    }
  ]
}